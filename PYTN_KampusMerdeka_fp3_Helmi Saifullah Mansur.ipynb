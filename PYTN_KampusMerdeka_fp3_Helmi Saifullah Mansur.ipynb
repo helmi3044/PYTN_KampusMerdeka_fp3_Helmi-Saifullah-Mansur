{
 "cells": [
  {
   "cell_type": "markdown",
   "metadata": {},
   "source": [
    "# FINAL PROJECT 3 KAMPUS MERDEKA HACKTIV8\n",
    "Nama Kelompok :\n",
    "- Kezario Muhammad Anaqi (PYTN-KS04-005)\n",
    "- Helmi Saifullah Mansur (PYTN-KS04-010)"
   ]
  },
  {
   "cell_type": "markdown",
   "metadata": {},
   "source": [
    "## 1. Overview (Perkenalan)\n",
    "#### **Latar Belakang**\n",
    "Penyakit kardiovaskular (CVD) merupakan salah satu penyebab kematian nomor 1 secara global, dimana mengambil sekitar 17,9 juta jiwa setiap tahun, serta menyumbang 31% dari semua kematian di seluruh dunia. Gagal jantung yaitu kejadian umum yang disebabkan oleh CVD. Pada kumpulan dataset ini berisi 12 feature yang dapat digunakan untuk memprediksi kematian akibat gagal jantung.\n",
    "\n",
    "Sebagian besar penyakit kardiovaskular (CVD) dapat dicegah dengan mengatasi atau mengurangi faktor risiko perilaku diantaranya penggunaan tembakau, diet tidak sehat dan obesitas, kurangnya aktivitas fisik, dan penggunaan alkohol yang berbahaya menggunakan strategi di seluruh populasi.\n",
    "\n",
    "Orang dengan penyakit kardiovaskular (CVD) atau yang berada pada risiko kardiovaskular tinggi (karena adanya satu atau lebih faktor risiko seperti hipertensi, diabetes, hiperlipidemia atau penyakit yang sudah ada) memerlukan deteksi dan manajemen dini di mana model machine learning dapat sangat membantu.\n",
    "\n",
    "#### **Dataset**\n",
    "Dataset yang digunakan pada analisis ini yaitu heart failure clinical records yang diunduh dari kaggle melalui [link berikut](https://www.kaggle.com/datasets/andrewmvd/heart-failure-clinical-data)\n",
    "\n",
    "Dataset ini berisikan faktor-faktor kematian oleh gagal jantung yang memiliki 13 atribut dengan 299 rows. Atribut yang menjadi target yaitu atribut Death Event/Kematian, sedangkan atribut lainnya merupakan prediktor.\n",
    "\n",
    "#### **Objective yang Ingin Dicapai**\n",
    "Objective yang ingin dicapai dalam analisis ini yaitu:\n",
    "\n",
    "- Memahami konsep classification dengan **Ensemble Model** serta mempersiapkan data untuk digunakan dalam model **Ensemble Model**.\n",
    "\n",
    "- Dapat mengimplementasikan **Ensemble Model** untuk membuat Prediksi keselamatan pasien dari penyakit jantung\n",
    "\n",
    "- Mengetahui faktor-faktor yang berpengaruh signifikan dalam memPrediksi keselamatan pasien dari penyakit jantung. "
   ]
  },
  {
   "cell_type": "markdown",
   "metadata": {},
   "source": [
    "## 2. Import Pustaka yang Dibutuhkan\n",
    "Cell pertama pada notebook harus berisi dan hanya berisi semua library yang digunakan dalam project"
   ]
  },
  {
   "cell_type": "code",
   "execution_count": 41,
   "metadata": {},
   "outputs": [],
   "source": [
    "%matplotlib inline\n",
    "import pandas as pd\n",
    "import numpy as np\n",
    "import matplotlib.pyplot as plt\n",
    "import seaborn as sns\n",
    "\n",
    "from sklearn.model_selection import train_test_split\n",
    "from sklearn import metrics\n",
    "from sklearn.feature_selection import SelectKBest\n",
    "from sklearn.feature_selection import f_regression\n",
    "from sklearn.ensemble import RandomForestClassifier\n",
    "from sklearn.ensemble import RandomForestRegressor\n",
    "from sklearn.metrics import r2_score\n",
    "from sklearn.metrics import mean_squared_error\n",
    "\n",
    "from sklearn import metrics\n",
    "from sklearn.metrics import accuracy_score,f1_score, precision_score, recall_score\n",
    "from sklearn.metrics import confusion_matrix\n",
    "from sklearn.metrics import classification_report\n",
    "\n",
    "import pickle"
   ]
  },
  {
   "cell_type": "markdown",
   "metadata": {},
   "source": [
    "## 3. Data Loading\n",
    "Bagian ini berisi proses data loading yang kemudian dilanjutkan dengan explorasi data secara sederhana.\n",
    "\n",
    "a. Melakukan loading data dengan menggunakan pandas"
   ]
  },
  {
   "cell_type": "code",
   "execution_count": 42,
   "metadata": {},
   "outputs": [],
   "source": [
    "df = pd.read_csv('heart_failure_clinical_records_dataset.csv')"
   ]
  },
  {
   "cell_type": "markdown",
   "metadata": {},
   "source": [
    "b. Melakukan setting untuk menampilkan semua kolom pada dataframe"
   ]
  },
  {
   "cell_type": "code",
   "execution_count": 43,
   "metadata": {},
   "outputs": [],
   "source": [
    "pd.set_option(\"display.max_columns\", None)"
   ]
  },
  {
   "cell_type": "markdown",
   "metadata": {},
   "source": [
    "c. Melihat 5 baris teratas pada dataset"
   ]
  },
  {
   "cell_type": "code",
   "execution_count": 44,
   "metadata": {},
   "outputs": [
    {
     "data": {
      "text/html": [
       "<div>\n",
       "<style scoped>\n",
       "    .dataframe tbody tr th:only-of-type {\n",
       "        vertical-align: middle;\n",
       "    }\n",
       "\n",
       "    .dataframe tbody tr th {\n",
       "        vertical-align: top;\n",
       "    }\n",
       "\n",
       "    .dataframe thead th {\n",
       "        text-align: right;\n",
       "    }\n",
       "</style>\n",
       "<table border=\"1\" class=\"dataframe\">\n",
       "  <thead>\n",
       "    <tr style=\"text-align: right;\">\n",
       "      <th></th>\n",
       "      <th>age</th>\n",
       "      <th>anaemia</th>\n",
       "      <th>creatinine_phosphokinase</th>\n",
       "      <th>diabetes</th>\n",
       "      <th>ejection_fraction</th>\n",
       "      <th>high_blood_pressure</th>\n",
       "      <th>platelets</th>\n",
       "      <th>serum_creatinine</th>\n",
       "      <th>serum_sodium</th>\n",
       "      <th>sex</th>\n",
       "      <th>smoking</th>\n",
       "      <th>time</th>\n",
       "      <th>DEATH_EVENT</th>\n",
       "    </tr>\n",
       "  </thead>\n",
       "  <tbody>\n",
       "    <tr>\n",
       "      <th>0</th>\n",
       "      <td>75.0</td>\n",
       "      <td>0</td>\n",
       "      <td>582</td>\n",
       "      <td>0</td>\n",
       "      <td>20</td>\n",
       "      <td>1</td>\n",
       "      <td>265000.00</td>\n",
       "      <td>1.9</td>\n",
       "      <td>130</td>\n",
       "      <td>1</td>\n",
       "      <td>0</td>\n",
       "      <td>4</td>\n",
       "      <td>1</td>\n",
       "    </tr>\n",
       "    <tr>\n",
       "      <th>1</th>\n",
       "      <td>55.0</td>\n",
       "      <td>0</td>\n",
       "      <td>7861</td>\n",
       "      <td>0</td>\n",
       "      <td>38</td>\n",
       "      <td>0</td>\n",
       "      <td>263358.03</td>\n",
       "      <td>1.1</td>\n",
       "      <td>136</td>\n",
       "      <td>1</td>\n",
       "      <td>0</td>\n",
       "      <td>6</td>\n",
       "      <td>1</td>\n",
       "    </tr>\n",
       "    <tr>\n",
       "      <th>2</th>\n",
       "      <td>65.0</td>\n",
       "      <td>0</td>\n",
       "      <td>146</td>\n",
       "      <td>0</td>\n",
       "      <td>20</td>\n",
       "      <td>0</td>\n",
       "      <td>162000.00</td>\n",
       "      <td>1.3</td>\n",
       "      <td>129</td>\n",
       "      <td>1</td>\n",
       "      <td>1</td>\n",
       "      <td>7</td>\n",
       "      <td>1</td>\n",
       "    </tr>\n",
       "    <tr>\n",
       "      <th>3</th>\n",
       "      <td>50.0</td>\n",
       "      <td>1</td>\n",
       "      <td>111</td>\n",
       "      <td>0</td>\n",
       "      <td>20</td>\n",
       "      <td>0</td>\n",
       "      <td>210000.00</td>\n",
       "      <td>1.9</td>\n",
       "      <td>137</td>\n",
       "      <td>1</td>\n",
       "      <td>0</td>\n",
       "      <td>7</td>\n",
       "      <td>1</td>\n",
       "    </tr>\n",
       "    <tr>\n",
       "      <th>4</th>\n",
       "      <td>65.0</td>\n",
       "      <td>1</td>\n",
       "      <td>160</td>\n",
       "      <td>1</td>\n",
       "      <td>20</td>\n",
       "      <td>0</td>\n",
       "      <td>327000.00</td>\n",
       "      <td>2.7</td>\n",
       "      <td>116</td>\n",
       "      <td>0</td>\n",
       "      <td>0</td>\n",
       "      <td>8</td>\n",
       "      <td>1</td>\n",
       "    </tr>\n",
       "  </tbody>\n",
       "</table>\n",
       "</div>"
      ],
      "text/plain": [
       "    age  anaemia  creatinine_phosphokinase  diabetes  ejection_fraction  \\\n",
       "0  75.0        0                       582         0                 20   \n",
       "1  55.0        0                      7861         0                 38   \n",
       "2  65.0        0                       146         0                 20   \n",
       "3  50.0        1                       111         0                 20   \n",
       "4  65.0        1                       160         1                 20   \n",
       "\n",
       "   high_blood_pressure  platelets  serum_creatinine  serum_sodium  sex  \\\n",
       "0                    1  265000.00               1.9           130    1   \n",
       "1                    0  263358.03               1.1           136    1   \n",
       "2                    0  162000.00               1.3           129    1   \n",
       "3                    0  210000.00               1.9           137    1   \n",
       "4                    0  327000.00               2.7           116    0   \n",
       "\n",
       "   smoking  time  DEATH_EVENT  \n",
       "0        0     4            1  \n",
       "1        0     6            1  \n",
       "2        1     7            1  \n",
       "3        0     7            1  \n",
       "4        0     8            1  "
      ]
     },
     "execution_count": 44,
     "metadata": {},
     "output_type": "execute_result"
    }
   ],
   "source": [
    "df.head()"
   ]
  },
  {
   "cell_type": "markdown",
   "metadata": {},
   "source": [
    "d. Melihat 5 baris terbawah dari dataset"
   ]
  },
  {
   "cell_type": "code",
   "execution_count": 45,
   "metadata": {},
   "outputs": [
    {
     "data": {
      "text/html": [
       "<div>\n",
       "<style scoped>\n",
       "    .dataframe tbody tr th:only-of-type {\n",
       "        vertical-align: middle;\n",
       "    }\n",
       "\n",
       "    .dataframe tbody tr th {\n",
       "        vertical-align: top;\n",
       "    }\n",
       "\n",
       "    .dataframe thead th {\n",
       "        text-align: right;\n",
       "    }\n",
       "</style>\n",
       "<table border=\"1\" class=\"dataframe\">\n",
       "  <thead>\n",
       "    <tr style=\"text-align: right;\">\n",
       "      <th></th>\n",
       "      <th>age</th>\n",
       "      <th>anaemia</th>\n",
       "      <th>creatinine_phosphokinase</th>\n",
       "      <th>diabetes</th>\n",
       "      <th>ejection_fraction</th>\n",
       "      <th>high_blood_pressure</th>\n",
       "      <th>platelets</th>\n",
       "      <th>serum_creatinine</th>\n",
       "      <th>serum_sodium</th>\n",
       "      <th>sex</th>\n",
       "      <th>smoking</th>\n",
       "      <th>time</th>\n",
       "      <th>DEATH_EVENT</th>\n",
       "    </tr>\n",
       "  </thead>\n",
       "  <tbody>\n",
       "    <tr>\n",
       "      <th>294</th>\n",
       "      <td>62.0</td>\n",
       "      <td>0</td>\n",
       "      <td>61</td>\n",
       "      <td>1</td>\n",
       "      <td>38</td>\n",
       "      <td>1</td>\n",
       "      <td>155000.0</td>\n",
       "      <td>1.1</td>\n",
       "      <td>143</td>\n",
       "      <td>1</td>\n",
       "      <td>1</td>\n",
       "      <td>270</td>\n",
       "      <td>0</td>\n",
       "    </tr>\n",
       "    <tr>\n",
       "      <th>295</th>\n",
       "      <td>55.0</td>\n",
       "      <td>0</td>\n",
       "      <td>1820</td>\n",
       "      <td>0</td>\n",
       "      <td>38</td>\n",
       "      <td>0</td>\n",
       "      <td>270000.0</td>\n",
       "      <td>1.2</td>\n",
       "      <td>139</td>\n",
       "      <td>0</td>\n",
       "      <td>0</td>\n",
       "      <td>271</td>\n",
       "      <td>0</td>\n",
       "    </tr>\n",
       "    <tr>\n",
       "      <th>296</th>\n",
       "      <td>45.0</td>\n",
       "      <td>0</td>\n",
       "      <td>2060</td>\n",
       "      <td>1</td>\n",
       "      <td>60</td>\n",
       "      <td>0</td>\n",
       "      <td>742000.0</td>\n",
       "      <td>0.8</td>\n",
       "      <td>138</td>\n",
       "      <td>0</td>\n",
       "      <td>0</td>\n",
       "      <td>278</td>\n",
       "      <td>0</td>\n",
       "    </tr>\n",
       "    <tr>\n",
       "      <th>297</th>\n",
       "      <td>45.0</td>\n",
       "      <td>0</td>\n",
       "      <td>2413</td>\n",
       "      <td>0</td>\n",
       "      <td>38</td>\n",
       "      <td>0</td>\n",
       "      <td>140000.0</td>\n",
       "      <td>1.4</td>\n",
       "      <td>140</td>\n",
       "      <td>1</td>\n",
       "      <td>1</td>\n",
       "      <td>280</td>\n",
       "      <td>0</td>\n",
       "    </tr>\n",
       "    <tr>\n",
       "      <th>298</th>\n",
       "      <td>50.0</td>\n",
       "      <td>0</td>\n",
       "      <td>196</td>\n",
       "      <td>0</td>\n",
       "      <td>45</td>\n",
       "      <td>0</td>\n",
       "      <td>395000.0</td>\n",
       "      <td>1.6</td>\n",
       "      <td>136</td>\n",
       "      <td>1</td>\n",
       "      <td>1</td>\n",
       "      <td>285</td>\n",
       "      <td>0</td>\n",
       "    </tr>\n",
       "  </tbody>\n",
       "</table>\n",
       "</div>"
      ],
      "text/plain": [
       "      age  anaemia  creatinine_phosphokinase  diabetes  ejection_fraction  \\\n",
       "294  62.0        0                        61         1                 38   \n",
       "295  55.0        0                      1820         0                 38   \n",
       "296  45.0        0                      2060         1                 60   \n",
       "297  45.0        0                      2413         0                 38   \n",
       "298  50.0        0                       196         0                 45   \n",
       "\n",
       "     high_blood_pressure  platelets  serum_creatinine  serum_sodium  sex  \\\n",
       "294                    1   155000.0               1.1           143    1   \n",
       "295                    0   270000.0               1.2           139    0   \n",
       "296                    0   742000.0               0.8           138    0   \n",
       "297                    0   140000.0               1.4           140    1   \n",
       "298                    0   395000.0               1.6           136    1   \n",
       "\n",
       "     smoking  time  DEATH_EVENT  \n",
       "294        1   270            0  \n",
       "295        0   271            0  \n",
       "296        0   278            0  \n",
       "297        1   280            0  \n",
       "298        1   285            0  "
      ]
     },
     "execution_count": 45,
     "metadata": {},
     "output_type": "execute_result"
    }
   ],
   "source": [
    "df.tail()"
   ]
  },
  {
   "cell_type": "markdown",
   "metadata": {},
   "source": [
    "e. melihat dimensi dataset"
   ]
  },
  {
   "cell_type": "code",
   "execution_count": 46,
   "metadata": {},
   "outputs": [
    {
     "data": {
      "text/plain": [
       "(299, 13)"
      ]
     },
     "execution_count": 46,
     "metadata": {},
     "output_type": "execute_result"
    }
   ],
   "source": [
    "df.shape"
   ]
  },
  {
   "cell_type": "markdown",
   "metadata": {},
   "source": [
    "dapat dilihat dataset memiliki dimensi 13 kolom/atribut dan 299 baris\n",
    "\n",
    "f. melihat informasi (kolom, baris, tipe data) pada dataset"
   ]
  },
  {
   "cell_type": "code",
   "execution_count": 47,
   "metadata": {},
   "outputs": [
    {
     "name": "stdout",
     "output_type": "stream",
     "text": [
      "<class 'pandas.core.frame.DataFrame'>\n",
      "RangeIndex: 299 entries, 0 to 298\n",
      "Data columns (total 13 columns):\n",
      " #   Column                    Non-Null Count  Dtype  \n",
      "---  ------                    --------------  -----  \n",
      " 0   age                       299 non-null    float64\n",
      " 1   anaemia                   299 non-null    int64  \n",
      " 2   creatinine_phosphokinase  299 non-null    int64  \n",
      " 3   diabetes                  299 non-null    int64  \n",
      " 4   ejection_fraction         299 non-null    int64  \n",
      " 5   high_blood_pressure       299 non-null    int64  \n",
      " 6   platelets                 299 non-null    float64\n",
      " 7   serum_creatinine          299 non-null    float64\n",
      " 8   serum_sodium              299 non-null    int64  \n",
      " 9   sex                       299 non-null    int64  \n",
      " 10  smoking                   299 non-null    int64  \n",
      " 11  time                      299 non-null    int64  \n",
      " 12  DEATH_EVENT               299 non-null    int64  \n",
      "dtypes: float64(3), int64(10)\n",
      "memory usage: 30.5 KB\n"
     ]
    }
   ],
   "source": [
    "df.info()"
   ]
  },
  {
   "cell_type": "markdown",
   "metadata": {},
   "source": [
    "dapat dilihat dataset memiliki 13 atribut dengan tipe data float64 sebanyak 2, dan tipe data integer sebanyak 11.\n",
    "\n",
    "g. Melihat rincian nama kolom pada dataset"
   ]
  },
  {
   "cell_type": "code",
   "execution_count": 48,
   "metadata": {},
   "outputs": [
    {
     "data": {
      "text/plain": [
       "Index(['age', 'anaemia', 'creatinine_phosphokinase', 'diabetes',\n",
       "       'ejection_fraction', 'high_blood_pressure', 'platelets',\n",
       "       'serum_creatinine', 'serum_sodium', 'sex', 'smoking', 'time',\n",
       "       'DEATH_EVENT'],\n",
       "      dtype='object')"
      ]
     },
     "execution_count": 48,
     "metadata": {},
     "output_type": "execute_result"
    }
   ],
   "source": [
    "df.columns"
   ]
  },
  {
   "cell_type": "markdown",
   "metadata": {},
   "source": [
    "h. Mengecek apakah pada dataset terdapat missing value"
   ]
  },
  {
   "cell_type": "code",
   "execution_count": 49,
   "metadata": {},
   "outputs": [
    {
     "data": {
      "text/plain": [
       "False"
      ]
     },
     "execution_count": 49,
     "metadata": {},
     "output_type": "execute_result"
    }
   ],
   "source": [
    "df.isnull().values.any()"
   ]
  },
  {
   "cell_type": "markdown",
   "metadata": {},
   "source": [
    "output menunjukkan 'False' yang berarti pada dataset tidak terdapat missing value\n",
    "\n",
    "i. Melihat statistik deskriptif dari masing-masing atribut"
   ]
  },
  {
   "cell_type": "code",
   "execution_count": 50,
   "metadata": {},
   "outputs": [
    {
     "data": {
      "text/html": [
       "<div>\n",
       "<style scoped>\n",
       "    .dataframe tbody tr th:only-of-type {\n",
       "        vertical-align: middle;\n",
       "    }\n",
       "\n",
       "    .dataframe tbody tr th {\n",
       "        vertical-align: top;\n",
       "    }\n",
       "\n",
       "    .dataframe thead th {\n",
       "        text-align: right;\n",
       "    }\n",
       "</style>\n",
       "<table border=\"1\" class=\"dataframe\">\n",
       "  <thead>\n",
       "    <tr style=\"text-align: right;\">\n",
       "      <th></th>\n",
       "      <th>age</th>\n",
       "      <th>anaemia</th>\n",
       "      <th>creatinine_phosphokinase</th>\n",
       "      <th>diabetes</th>\n",
       "      <th>ejection_fraction</th>\n",
       "      <th>high_blood_pressure</th>\n",
       "      <th>platelets</th>\n",
       "      <th>serum_creatinine</th>\n",
       "      <th>serum_sodium</th>\n",
       "      <th>sex</th>\n",
       "      <th>smoking</th>\n",
       "      <th>time</th>\n",
       "      <th>DEATH_EVENT</th>\n",
       "    </tr>\n",
       "  </thead>\n",
       "  <tbody>\n",
       "    <tr>\n",
       "      <th>count</th>\n",
       "      <td>299.000000</td>\n",
       "      <td>299.000000</td>\n",
       "      <td>299.000000</td>\n",
       "      <td>299.000000</td>\n",
       "      <td>299.000000</td>\n",
       "      <td>299.000000</td>\n",
       "      <td>299.000000</td>\n",
       "      <td>299.00000</td>\n",
       "      <td>299.000000</td>\n",
       "      <td>299.000000</td>\n",
       "      <td>299.00000</td>\n",
       "      <td>299.000000</td>\n",
       "      <td>299.00000</td>\n",
       "    </tr>\n",
       "    <tr>\n",
       "      <th>mean</th>\n",
       "      <td>60.833893</td>\n",
       "      <td>0.431438</td>\n",
       "      <td>581.839465</td>\n",
       "      <td>0.418060</td>\n",
       "      <td>38.083612</td>\n",
       "      <td>0.351171</td>\n",
       "      <td>263358.029264</td>\n",
       "      <td>1.39388</td>\n",
       "      <td>136.625418</td>\n",
       "      <td>0.648829</td>\n",
       "      <td>0.32107</td>\n",
       "      <td>130.260870</td>\n",
       "      <td>0.32107</td>\n",
       "    </tr>\n",
       "    <tr>\n",
       "      <th>std</th>\n",
       "      <td>11.894809</td>\n",
       "      <td>0.496107</td>\n",
       "      <td>970.287881</td>\n",
       "      <td>0.494067</td>\n",
       "      <td>11.834841</td>\n",
       "      <td>0.478136</td>\n",
       "      <td>97804.236869</td>\n",
       "      <td>1.03451</td>\n",
       "      <td>4.412477</td>\n",
       "      <td>0.478136</td>\n",
       "      <td>0.46767</td>\n",
       "      <td>77.614208</td>\n",
       "      <td>0.46767</td>\n",
       "    </tr>\n",
       "    <tr>\n",
       "      <th>min</th>\n",
       "      <td>40.000000</td>\n",
       "      <td>0.000000</td>\n",
       "      <td>23.000000</td>\n",
       "      <td>0.000000</td>\n",
       "      <td>14.000000</td>\n",
       "      <td>0.000000</td>\n",
       "      <td>25100.000000</td>\n",
       "      <td>0.50000</td>\n",
       "      <td>113.000000</td>\n",
       "      <td>0.000000</td>\n",
       "      <td>0.00000</td>\n",
       "      <td>4.000000</td>\n",
       "      <td>0.00000</td>\n",
       "    </tr>\n",
       "    <tr>\n",
       "      <th>25%</th>\n",
       "      <td>51.000000</td>\n",
       "      <td>0.000000</td>\n",
       "      <td>116.500000</td>\n",
       "      <td>0.000000</td>\n",
       "      <td>30.000000</td>\n",
       "      <td>0.000000</td>\n",
       "      <td>212500.000000</td>\n",
       "      <td>0.90000</td>\n",
       "      <td>134.000000</td>\n",
       "      <td>0.000000</td>\n",
       "      <td>0.00000</td>\n",
       "      <td>73.000000</td>\n",
       "      <td>0.00000</td>\n",
       "    </tr>\n",
       "    <tr>\n",
       "      <th>50%</th>\n",
       "      <td>60.000000</td>\n",
       "      <td>0.000000</td>\n",
       "      <td>250.000000</td>\n",
       "      <td>0.000000</td>\n",
       "      <td>38.000000</td>\n",
       "      <td>0.000000</td>\n",
       "      <td>262000.000000</td>\n",
       "      <td>1.10000</td>\n",
       "      <td>137.000000</td>\n",
       "      <td>1.000000</td>\n",
       "      <td>0.00000</td>\n",
       "      <td>115.000000</td>\n",
       "      <td>0.00000</td>\n",
       "    </tr>\n",
       "    <tr>\n",
       "      <th>75%</th>\n",
       "      <td>70.000000</td>\n",
       "      <td>1.000000</td>\n",
       "      <td>582.000000</td>\n",
       "      <td>1.000000</td>\n",
       "      <td>45.000000</td>\n",
       "      <td>1.000000</td>\n",
       "      <td>303500.000000</td>\n",
       "      <td>1.40000</td>\n",
       "      <td>140.000000</td>\n",
       "      <td>1.000000</td>\n",
       "      <td>1.00000</td>\n",
       "      <td>203.000000</td>\n",
       "      <td>1.00000</td>\n",
       "    </tr>\n",
       "    <tr>\n",
       "      <th>max</th>\n",
       "      <td>95.000000</td>\n",
       "      <td>1.000000</td>\n",
       "      <td>7861.000000</td>\n",
       "      <td>1.000000</td>\n",
       "      <td>80.000000</td>\n",
       "      <td>1.000000</td>\n",
       "      <td>850000.000000</td>\n",
       "      <td>9.40000</td>\n",
       "      <td>148.000000</td>\n",
       "      <td>1.000000</td>\n",
       "      <td>1.00000</td>\n",
       "      <td>285.000000</td>\n",
       "      <td>1.00000</td>\n",
       "    </tr>\n",
       "  </tbody>\n",
       "</table>\n",
       "</div>"
      ],
      "text/plain": [
       "              age     anaemia  creatinine_phosphokinase    diabetes  \\\n",
       "count  299.000000  299.000000                299.000000  299.000000   \n",
       "mean    60.833893    0.431438                581.839465    0.418060   \n",
       "std     11.894809    0.496107                970.287881    0.494067   \n",
       "min     40.000000    0.000000                 23.000000    0.000000   \n",
       "25%     51.000000    0.000000                116.500000    0.000000   \n",
       "50%     60.000000    0.000000                250.000000    0.000000   \n",
       "75%     70.000000    1.000000                582.000000    1.000000   \n",
       "max     95.000000    1.000000               7861.000000    1.000000   \n",
       "\n",
       "       ejection_fraction  high_blood_pressure      platelets  \\\n",
       "count         299.000000           299.000000     299.000000   \n",
       "mean           38.083612             0.351171  263358.029264   \n",
       "std            11.834841             0.478136   97804.236869   \n",
       "min            14.000000             0.000000   25100.000000   \n",
       "25%            30.000000             0.000000  212500.000000   \n",
       "50%            38.000000             0.000000  262000.000000   \n",
       "75%            45.000000             1.000000  303500.000000   \n",
       "max            80.000000             1.000000  850000.000000   \n",
       "\n",
       "       serum_creatinine  serum_sodium         sex    smoking        time  \\\n",
       "count         299.00000    299.000000  299.000000  299.00000  299.000000   \n",
       "mean            1.39388    136.625418    0.648829    0.32107  130.260870   \n",
       "std             1.03451      4.412477    0.478136    0.46767   77.614208   \n",
       "min             0.50000    113.000000    0.000000    0.00000    4.000000   \n",
       "25%             0.90000    134.000000    0.000000    0.00000   73.000000   \n",
       "50%             1.10000    137.000000    1.000000    0.00000  115.000000   \n",
       "75%             1.40000    140.000000    1.000000    1.00000  203.000000   \n",
       "max             9.40000    148.000000    1.000000    1.00000  285.000000   \n",
       "\n",
       "       DEATH_EVENT  \n",
       "count    299.00000  \n",
       "mean       0.32107  \n",
       "std        0.46767  \n",
       "min        0.00000  \n",
       "25%        0.00000  \n",
       "50%        0.00000  \n",
       "75%        1.00000  \n",
       "max        1.00000  "
      ]
     },
     "execution_count": 50,
     "metadata": {},
     "output_type": "execute_result"
    }
   ],
   "source": [
    "df.describe()"
   ]
  },
  {
   "cell_type": "markdown",
   "metadata": {},
   "source": [
    "Diketahui bahwa :\n",
    "- Usia rata-rata pasien yakni berkisar 60 tahun\n",
    "- Rata-rata nilai kreatinin fosfokinase pada pasien yaitu 581,84\n",
    "- Fraksi ejeksi maksimal yang ada pada pasien yaitu 80\n",
    "- Kreatinin serum minimal yang ada pada pasien yaitu 0,5\n",
    "- Sodium serum rata-rata pada pasien yaitu 136,63"
   ]
  },
  {
   "cell_type": "code",
   "execution_count": 51,
   "metadata": {},
   "outputs": [
    {
     "data": {
      "text/html": [
       "<div>\n",
       "<style scoped>\n",
       "    .dataframe tbody tr th:only-of-type {\n",
       "        vertical-align: middle;\n",
       "    }\n",
       "\n",
       "    .dataframe tbody tr th {\n",
       "        vertical-align: top;\n",
       "    }\n",
       "\n",
       "    .dataframe thead th {\n",
       "        text-align: right;\n",
       "    }\n",
       "</style>\n",
       "<table border=\"1\" class=\"dataframe\">\n",
       "  <thead>\n",
       "    <tr style=\"text-align: right;\">\n",
       "      <th></th>\n",
       "      <th>age</th>\n",
       "      <th>anaemia</th>\n",
       "      <th>creatinine_phosphokinase</th>\n",
       "      <th>diabetes</th>\n",
       "      <th>ejection_fraction</th>\n",
       "      <th>high_blood_pressure</th>\n",
       "      <th>platelets</th>\n",
       "      <th>serum_creatinine</th>\n",
       "      <th>serum_sodium</th>\n",
       "      <th>sex</th>\n",
       "      <th>smoking</th>\n",
       "      <th>time</th>\n",
       "      <th>DEATH_EVENT</th>\n",
       "    </tr>\n",
       "  </thead>\n",
       "  <tbody>\n",
       "    <tr>\n",
       "      <th>count</th>\n",
       "      <td>299.0</td>\n",
       "      <td>299</td>\n",
       "      <td>299</td>\n",
       "      <td>299</td>\n",
       "      <td>299</td>\n",
       "      <td>299</td>\n",
       "      <td>299.00</td>\n",
       "      <td>299.0</td>\n",
       "      <td>299</td>\n",
       "      <td>299</td>\n",
       "      <td>299</td>\n",
       "      <td>299</td>\n",
       "      <td>299</td>\n",
       "    </tr>\n",
       "    <tr>\n",
       "      <th>unique</th>\n",
       "      <td>47.0</td>\n",
       "      <td>2</td>\n",
       "      <td>208</td>\n",
       "      <td>2</td>\n",
       "      <td>17</td>\n",
       "      <td>2</td>\n",
       "      <td>176.00</td>\n",
       "      <td>40.0</td>\n",
       "      <td>27</td>\n",
       "      <td>2</td>\n",
       "      <td>2</td>\n",
       "      <td>148</td>\n",
       "      <td>2</td>\n",
       "    </tr>\n",
       "    <tr>\n",
       "      <th>top</th>\n",
       "      <td>60.0</td>\n",
       "      <td>0</td>\n",
       "      <td>582</td>\n",
       "      <td>0</td>\n",
       "      <td>35</td>\n",
       "      <td>0</td>\n",
       "      <td>263358.03</td>\n",
       "      <td>1.0</td>\n",
       "      <td>136</td>\n",
       "      <td>1</td>\n",
       "      <td>0</td>\n",
       "      <td>250</td>\n",
       "      <td>0</td>\n",
       "    </tr>\n",
       "    <tr>\n",
       "      <th>freq</th>\n",
       "      <td>33.0</td>\n",
       "      <td>170</td>\n",
       "      <td>47</td>\n",
       "      <td>174</td>\n",
       "      <td>49</td>\n",
       "      <td>194</td>\n",
       "      <td>25.00</td>\n",
       "      <td>50.0</td>\n",
       "      <td>40</td>\n",
       "      <td>194</td>\n",
       "      <td>203</td>\n",
       "      <td>7</td>\n",
       "      <td>203</td>\n",
       "    </tr>\n",
       "  </tbody>\n",
       "</table>\n",
       "</div>"
      ],
      "text/plain": [
       "          age  anaemia  creatinine_phosphokinase  diabetes  ejection_fraction  \\\n",
       "count   299.0      299                       299       299                299   \n",
       "unique   47.0        2                       208         2                 17   \n",
       "top      60.0        0                       582         0                 35   \n",
       "freq     33.0      170                        47       174                 49   \n",
       "\n",
       "        high_blood_pressure  platelets  serum_creatinine  serum_sodium  sex  \\\n",
       "count                   299     299.00             299.0           299  299   \n",
       "unique                    2     176.00              40.0            27    2   \n",
       "top                       0  263358.03               1.0           136    1   \n",
       "freq                    194      25.00              50.0            40  194   \n",
       "\n",
       "        smoking  time  DEATH_EVENT  \n",
       "count       299   299          299  \n",
       "unique        2   148            2  \n",
       "top           0   250            0  \n",
       "freq        203     7          203  "
      ]
     },
     "execution_count": 51,
     "metadata": {},
     "output_type": "execute_result"
    }
   ],
   "source": [
    "df.astype('category').describe()"
   ]
  },
  {
   "cell_type": "markdown",
   "metadata": {},
   "source": [
    "Diketahui bahwa:\n",
    "- Pasien yang tidak mengidap anemia yaitu 170 pasien\n",
    "- Pasien yang tidak mengidap diabetes yaitu 174 pasien\n",
    "- Pasien dengan tidak mengidap tekanan darah tinggi yaitu 194 pasien\n",
    "- Pasien yang tidak merokok yakni 203 pasien\n",
    "- Pasien yang tidak meninggal berjumlah 203 orang"
   ]
  },
  {
   "cell_type": "markdown",
   "metadata": {},
   "source": [
    "j. Melihat banyaknya unique values pada masing-masing atribut"
   ]
  },
  {
   "cell_type": "code",
   "execution_count": 52,
   "metadata": {},
   "outputs": [
    {
     "name": "stdout",
     "output_type": "stream",
     "text": [
      "age : 47\n",
      "anaemia : 2\n",
      "creatinine_phosphokinase : 208\n",
      "diabetes : 2\n",
      "ejection_fraction : 17\n",
      "high_blood_pressure : 2\n",
      "platelets : 176\n",
      "serum_creatinine : 40\n",
      "serum_sodium : 27\n",
      "sex : 2\n",
      "smoking : 2\n",
      "time : 148\n",
      "DEATH_EVENT : 2\n"
     ]
    }
   ],
   "source": [
    "for col in df.columns:\n",
    "    print(col,':', df[col].nunique())"
   ]
  },
  {
   "cell_type": "markdown",
   "metadata": {},
   "source": [
    "k. Mencoba melihat unique values pada kolom ejection_fraction"
   ]
  },
  {
   "cell_type": "code",
   "execution_count": 53,
   "metadata": {},
   "outputs": [
    {
     "data": {
      "text/plain": [
       "array([20, 38, 40, 15, 60, 65, 35, 25, 30, 50, 14, 55, 45, 62, 80, 17, 70],\n",
       "      dtype=int64)"
      ]
     },
     "execution_count": 53,
     "metadata": {},
     "output_type": "execute_result"
    }
   ],
   "source": [
    "df['ejection_fraction'].unique()"
   ]
  },
  {
   "cell_type": "markdown",
   "metadata": {},
   "source": [
    "## 4. Data Cleaning\n",
    "Bagian ini berisi proses penyiapan data berupa data cleaning sebelum dilakukan explorasi data lebih lanjut. Proses cleaning dapat berupa memberi nama baru untuk setiap kolom, mengisi missing values, menghapus kolom yang tidak dipakai, dan lain sebagainya.\n",
    "\n",
    "a. Melihat apakah terdapat duplikasi data pada dataset"
   ]
  },
  {
   "cell_type": "code",
   "execution_count": 54,
   "metadata": {},
   "outputs": [
    {
     "data": {
      "text/plain": [
       "0"
      ]
     },
     "execution_count": 54,
     "metadata": {},
     "output_type": "execute_result"
    }
   ],
   "source": [
    "df.duplicated().sum()"
   ]
  },
  {
   "cell_type": "markdown",
   "metadata": {},
   "source": [
    "dapat dilihat tidak ada duplikasi data pada dataset\n",
    "\n",
    "b. Melihat apakah terdapat missing values / nilai yang hilang pada tiap kolom"
   ]
  },
  {
   "cell_type": "code",
   "execution_count": 55,
   "metadata": {},
   "outputs": [
    {
     "data": {
      "text/plain": [
       "age                         0\n",
       "anaemia                     0\n",
       "creatinine_phosphokinase    0\n",
       "diabetes                    0\n",
       "ejection_fraction           0\n",
       "high_blood_pressure         0\n",
       "platelets                   0\n",
       "serum_creatinine            0\n",
       "serum_sodium                0\n",
       "sex                         0\n",
       "smoking                     0\n",
       "time                        0\n",
       "DEATH_EVENT                 0\n",
       "dtype: int64"
      ]
     },
     "execution_count": 55,
     "metadata": {},
     "output_type": "execute_result"
    }
   ],
   "source": [
    "df.isnull().sum()"
   ]
  },
  {
   "cell_type": "markdown",
   "metadata": {},
   "source": [
    "dari hasil diketahui tidak terdapat missing value pada beberapa kolom di dataset\n",
    "\n",
    "c. Memberikan nama baru pada untuk setiap kolom atau atribut"
   ]
  },
  {
   "cell_type": "code",
   "execution_count": 56,
   "metadata": {},
   "outputs": [
    {
     "data": {
      "text/html": [
       "<div>\n",
       "<style scoped>\n",
       "    .dataframe tbody tr th:only-of-type {\n",
       "        vertical-align: middle;\n",
       "    }\n",
       "\n",
       "    .dataframe tbody tr th {\n",
       "        vertical-align: top;\n",
       "    }\n",
       "\n",
       "    .dataframe thead th {\n",
       "        text-align: right;\n",
       "    }\n",
       "</style>\n",
       "<table border=\"1\" class=\"dataframe\">\n",
       "  <thead>\n",
       "    <tr style=\"text-align: right;\">\n",
       "      <th></th>\n",
       "      <th>Usia</th>\n",
       "      <th>Anaemia</th>\n",
       "      <th>EnzimCPK</th>\n",
       "      <th>Diabetes</th>\n",
       "      <th>PecahanEjeksi</th>\n",
       "      <th>TekananDarahTinggi</th>\n",
       "      <th>Trombosit</th>\n",
       "      <th>KreatininSerum</th>\n",
       "      <th>SodiumSerum</th>\n",
       "      <th>JenisKelamin</th>\n",
       "      <th>Merokok</th>\n",
       "      <th>Waktu</th>\n",
       "      <th>Kematian</th>\n",
       "    </tr>\n",
       "  </thead>\n",
       "  <tbody>\n",
       "    <tr>\n",
       "      <th>0</th>\n",
       "      <td>75.0</td>\n",
       "      <td>0</td>\n",
       "      <td>582</td>\n",
       "      <td>0</td>\n",
       "      <td>20</td>\n",
       "      <td>1</td>\n",
       "      <td>265000.00</td>\n",
       "      <td>1.9</td>\n",
       "      <td>130</td>\n",
       "      <td>1</td>\n",
       "      <td>0</td>\n",
       "      <td>4</td>\n",
       "      <td>1</td>\n",
       "    </tr>\n",
       "    <tr>\n",
       "      <th>1</th>\n",
       "      <td>55.0</td>\n",
       "      <td>0</td>\n",
       "      <td>7861</td>\n",
       "      <td>0</td>\n",
       "      <td>38</td>\n",
       "      <td>0</td>\n",
       "      <td>263358.03</td>\n",
       "      <td>1.1</td>\n",
       "      <td>136</td>\n",
       "      <td>1</td>\n",
       "      <td>0</td>\n",
       "      <td>6</td>\n",
       "      <td>1</td>\n",
       "    </tr>\n",
       "    <tr>\n",
       "      <th>2</th>\n",
       "      <td>65.0</td>\n",
       "      <td>0</td>\n",
       "      <td>146</td>\n",
       "      <td>0</td>\n",
       "      <td>20</td>\n",
       "      <td>0</td>\n",
       "      <td>162000.00</td>\n",
       "      <td>1.3</td>\n",
       "      <td>129</td>\n",
       "      <td>1</td>\n",
       "      <td>1</td>\n",
       "      <td>7</td>\n",
       "      <td>1</td>\n",
       "    </tr>\n",
       "    <tr>\n",
       "      <th>3</th>\n",
       "      <td>50.0</td>\n",
       "      <td>1</td>\n",
       "      <td>111</td>\n",
       "      <td>0</td>\n",
       "      <td>20</td>\n",
       "      <td>0</td>\n",
       "      <td>210000.00</td>\n",
       "      <td>1.9</td>\n",
       "      <td>137</td>\n",
       "      <td>1</td>\n",
       "      <td>0</td>\n",
       "      <td>7</td>\n",
       "      <td>1</td>\n",
       "    </tr>\n",
       "    <tr>\n",
       "      <th>4</th>\n",
       "      <td>65.0</td>\n",
       "      <td>1</td>\n",
       "      <td>160</td>\n",
       "      <td>1</td>\n",
       "      <td>20</td>\n",
       "      <td>0</td>\n",
       "      <td>327000.00</td>\n",
       "      <td>2.7</td>\n",
       "      <td>116</td>\n",
       "      <td>0</td>\n",
       "      <td>0</td>\n",
       "      <td>8</td>\n",
       "      <td>1</td>\n",
       "    </tr>\n",
       "  </tbody>\n",
       "</table>\n",
       "</div>"
      ],
      "text/plain": [
       "   Usia  Anaemia  EnzimCPK  Diabetes  PecahanEjeksi  TekananDarahTinggi  \\\n",
       "0  75.0        0       582         0             20                   1   \n",
       "1  55.0        0      7861         0             38                   0   \n",
       "2  65.0        0       146         0             20                   0   \n",
       "3  50.0        1       111         0             20                   0   \n",
       "4  65.0        1       160         1             20                   0   \n",
       "\n",
       "   Trombosit  KreatininSerum  SodiumSerum  JenisKelamin  Merokok  Waktu  \\\n",
       "0  265000.00             1.9          130             1        0      4   \n",
       "1  263358.03             1.1          136             1        0      6   \n",
       "2  162000.00             1.3          129             1        1      7   \n",
       "3  210000.00             1.9          137             1        0      7   \n",
       "4  327000.00             2.7          116             0        0      8   \n",
       "\n",
       "   Kematian  \n",
       "0         1  \n",
       "1         1  \n",
       "2         1  \n",
       "3         1  \n",
       "4         1  "
      ]
     },
     "execution_count": 56,
     "metadata": {},
     "output_type": "execute_result"
    }
   ],
   "source": [
    "df = df.rename(columns={'age':'Usia', \n",
    "                        'anaemia':'Anaemia', \n",
    "                        'creatinine_phosphokinase':'EnzimCPK', \n",
    "                        'diabetes':'Diabetes', \n",
    "                        'ejection_fraction':'PecahanEjeksi', \n",
    "                        'high_blood_pressure':'TekananDarahTinggi', \n",
    "                        'platelets':'Trombosit', \n",
    "                        'serum_creatinine':'KreatininSerum', \n",
    "                        'serum_sodium':'SodiumSerum', \n",
    "                        'sex':'JenisKelamin', \n",
    "                        'smoking':'Merokok', \n",
    "                        'time':'Waktu', \n",
    "                        'DEATH_EVENT':'Kematian'})\n",
    "\n",
    "df.head()"
   ]
  },
  {
   "cell_type": "code",
   "execution_count": 57,
   "metadata": {},
   "outputs": [
    {
     "data": {
      "text/plain": [
       "Index(['Usia', 'Anaemia', 'EnzimCPK', 'Diabetes', 'PecahanEjeksi',\n",
       "       'TekananDarahTinggi', 'Trombosit', 'KreatininSerum', 'SodiumSerum',\n",
       "       'JenisKelamin', 'Merokok', 'Waktu', 'Kematian'],\n",
       "      dtype='object')"
      ]
     },
     "execution_count": 57,
     "metadata": {},
     "output_type": "execute_result"
    }
   ],
   "source": [
    "df.columns"
   ]
  },
  {
   "cell_type": "markdown",
   "metadata": {},
   "source": [
    "d. Melihat banyaknya nilai dari masing-masing atribut"
   ]
  },
  {
   "cell_type": "code",
   "execution_count": 58,
   "metadata": {},
   "outputs": [
    {
     "name": "stdout",
     "output_type": "stream",
     "text": [
      "Usia : \n",
      "60.000    33\n",
      "50.000    27\n",
      "65.000    26\n",
      "70.000    25\n",
      "45.000    19\n",
      "55.000    17\n",
      "75.000    11\n",
      "58.000    10\n",
      "53.000    10\n",
      "63.000     8\n",
      "42.000     7\n",
      "72.000     7\n",
      "40.000     7\n",
      "80.000     7\n",
      "85.000     6\n",
      "62.000     5\n",
      "52.000     5\n",
      "68.000     5\n",
      "61.000     4\n",
      "73.000     4\n",
      "59.000     4\n",
      "49.000     4\n",
      "51.000     4\n",
      "82.000     3\n",
      "69.000     3\n",
      "90.000     3\n",
      "46.000     3\n",
      "64.000     3\n",
      "48.000     2\n",
      "66.000     2\n",
      "54.000     2\n",
      "95.000     2\n",
      "77.000     2\n",
      "57.000     2\n",
      "78.000     2\n",
      "60.667     2\n",
      "44.000     2\n",
      "67.000     2\n",
      "41.000     1\n",
      "79.000     1\n",
      "81.000     1\n",
      "86.000     1\n",
      "43.000     1\n",
      "47.000     1\n",
      "87.000     1\n",
      "56.000     1\n",
      "94.000     1\n",
      "Name: Usia, dtype: int64\n",
      "\n",
      " ############################################################ \n",
      "\n",
      "Anaemia : \n",
      "0    170\n",
      "1    129\n",
      "Name: Anaemia, dtype: int64\n",
      "\n",
      " ############################################################ \n",
      "\n",
      "EnzimCPK : \n",
      "582     47\n",
      "129      4\n",
      "66       4\n",
      "47       3\n",
      "64       3\n",
      "        ..\n",
      "1688     1\n",
      "154      1\n",
      "156      1\n",
      "159      1\n",
      "1021     1\n",
      "Name: EnzimCPK, Length: 208, dtype: int64\n",
      "\n",
      " ############################################################ \n",
      "\n",
      "Diabetes : \n",
      "0    174\n",
      "1    125\n",
      "Name: Diabetes, dtype: int64\n",
      "\n",
      " ############################################################ \n",
      "\n",
      "PecahanEjeksi : \n",
      "35    49\n",
      "38    40\n",
      "40    37\n",
      "25    36\n",
      "30    34\n",
      "60    31\n",
      "50    21\n",
      "45    20\n",
      "20    18\n",
      "55     3\n",
      "17     2\n",
      "15     2\n",
      "62     2\n",
      "70     1\n",
      "14     1\n",
      "65     1\n",
      "80     1\n",
      "Name: PecahanEjeksi, dtype: int64\n",
      "\n",
      " ############################################################ \n",
      "\n",
      "TekananDarahTinggi : \n",
      "0    194\n",
      "1    105\n",
      "Name: TekananDarahTinggi, dtype: int64\n",
      "\n",
      " ############################################################ \n",
      "\n",
      "Trombosit : \n",
      "263358.03    25\n",
      "228000.00     4\n",
      "226000.00     4\n",
      "235000.00     4\n",
      "255000.00     4\n",
      "             ..\n",
      "448000.00     1\n",
      "337000.00     1\n",
      "229000.00     1\n",
      "358000.00     1\n",
      "310000.00     1\n",
      "Name: Trombosit, Length: 176, dtype: int64\n",
      "\n",
      " ############################################################ \n",
      "\n",
      "KreatininSerum : \n",
      "1.00    50\n",
      "1.10    32\n",
      "0.90    32\n",
      "0.80    24\n",
      "1.20    24\n",
      "1.30    20\n",
      "0.70    19\n",
      "1.18    11\n",
      "1.70     9\n",
      "1.40     9\n",
      "1.83     8\n",
      "1.60     6\n",
      "2.10     5\n",
      "1.90     5\n",
      "1.50     5\n",
      "1.80     4\n",
      "0.60     4\n",
      "2.30     3\n",
      "2.70     3\n",
      "2.50     3\n",
      "3.50     2\n",
      "3.00     2\n",
      "2.40     2\n",
      "3.80     1\n",
      "0.75     1\n",
      "3.20     1\n",
      "9.40     1\n",
      "4.00     1\n",
      "0.50     1\n",
      "6.10     1\n",
      "4.40     1\n",
      "3.70     1\n",
      "2.90     1\n",
      "9.00     1\n",
      "5.00     1\n",
      "6.80     1\n",
      "3.40     1\n",
      "2.20     1\n",
      "5.80     1\n",
      "2.00     1\n",
      "Name: KreatininSerum, dtype: int64\n",
      "\n",
      " ############################################################ \n",
      "\n",
      "SodiumSerum : \n",
      "136    40\n",
      "137    38\n",
      "140    35\n",
      "134    32\n",
      "138    23\n",
      "139    22\n",
      "135    16\n",
      "132    14\n",
      "141    12\n",
      "142    11\n",
      "133    10\n",
      "130     9\n",
      "145     9\n",
      "144     5\n",
      "131     5\n",
      "143     3\n",
      "127     3\n",
      "128     2\n",
      "129     2\n",
      "146     1\n",
      "113     1\n",
      "116     1\n",
      "126     1\n",
      "125     1\n",
      "124     1\n",
      "121     1\n",
      "148     1\n",
      "Name: SodiumSerum, dtype: int64\n",
      "\n",
      " ############################################################ \n",
      "\n",
      "JenisKelamin : \n",
      "1    194\n",
      "0    105\n",
      "Name: JenisKelamin, dtype: int64\n",
      "\n",
      " ############################################################ \n",
      "\n",
      "Merokok : \n",
      "0    203\n",
      "1     96\n",
      "Name: Merokok, dtype: int64\n",
      "\n",
      " ############################################################ \n",
      "\n",
      "Waktu : \n",
      "250    7\n",
      "187    7\n",
      "10     6\n",
      "186    6\n",
      "107    6\n",
      "      ..\n",
      "97     1\n",
      "96     1\n",
      "86     1\n",
      "77     1\n",
      "285    1\n",
      "Name: Waktu, Length: 148, dtype: int64\n",
      "\n",
      " ############################################################ \n",
      "\n",
      "Kematian : \n",
      "0    203\n",
      "1     96\n",
      "Name: Kematian, dtype: int64\n",
      "\n",
      " ############################################################ \n",
      "\n"
     ]
    }
   ],
   "source": [
    "for col in df.columns:\n",
    "    print(col, ': ')\n",
    "    print(df[col].value_counts())\n",
    "    print('\\n','#'*60,'\\n')"
   ]
  },
  {
   "cell_type": "markdown",
   "metadata": {},
   "source": [
    "## 5. Eksplorasi Data\n",
    "Bagian ini berisi explorasi data pada dataset diatas dengan menggunakan query, grouping, visualisasi sederhana, dan lain sebagainya.\n",
    "\n",
    "a. Melihat paling banyak umur pasien penyakit jantung yang banyak merokok"
   ]
  },
  {
   "cell_type": "code",
   "execution_count": 59,
   "metadata": {},
   "outputs": [
    {
     "data": {
      "text/plain": [
       "0    60.0\n",
       "dtype: float64"
      ]
     },
     "execution_count": 59,
     "metadata": {},
     "output_type": "execute_result"
    }
   ],
   "source": [
    "df.loc[df['Merokok'] == 1, 'Usia'].mode()"
   ]
  },
  {
   "cell_type": "markdown",
   "metadata": {},
   "source": [
    "dari hasil diketahui bahwa pasien penyakit jantung yang merokok kebanyakan berusia 60 tahun\n",
    "\n",
    "b. Melihat jumlah Trombosit\tpasien penyakit jantung terbanyak dan terkecil"
   ]
  },
  {
   "cell_type": "code",
   "execution_count": 60,
   "metadata": {},
   "outputs": [
    {
     "data": {
      "text/plain": [
       "min     25100.0\n",
       "max    850000.0\n",
       "Name: Trombosit, dtype: float64"
      ]
     },
     "execution_count": 60,
     "metadata": {},
     "output_type": "execute_result"
    }
   ],
   "source": [
    "df['Trombosit'].agg(('min', 'max'))"
   ]
  },
  {
   "cell_type": "markdown",
   "metadata": {},
   "source": [
    "dari hasil diketahui trombosit terkecil pasien yaitu 25100.0, dan trombosit terbanyak pasien yaitu 850000.0\n",
    "\n",
    "c. Melihat proporsi data pada kolom Usia dan Kematian dengan menggunakan crosstab"
   ]
  },
  {
   "cell_type": "code",
   "execution_count": 61,
   "metadata": {},
   "outputs": [
    {
     "data": {
      "text/html": [
       "<div>\n",
       "<style scoped>\n",
       "    .dataframe tbody tr th:only-of-type {\n",
       "        vertical-align: middle;\n",
       "    }\n",
       "\n",
       "    .dataframe tbody tr th {\n",
       "        vertical-align: top;\n",
       "    }\n",
       "\n",
       "    .dataframe thead th {\n",
       "        text-align: right;\n",
       "    }\n",
       "</style>\n",
       "<table border=\"1\" class=\"dataframe\">\n",
       "  <thead>\n",
       "    <tr style=\"text-align: right;\">\n",
       "      <th>Usia</th>\n",
       "      <th>40.000</th>\n",
       "      <th>41.000</th>\n",
       "      <th>42.000</th>\n",
       "      <th>43.000</th>\n",
       "      <th>44.000</th>\n",
       "      <th>45.000</th>\n",
       "      <th>46.000</th>\n",
       "      <th>47.000</th>\n",
       "      <th>48.000</th>\n",
       "      <th>49.000</th>\n",
       "      <th>50.000</th>\n",
       "      <th>51.000</th>\n",
       "      <th>52.000</th>\n",
       "      <th>53.000</th>\n",
       "      <th>54.000</th>\n",
       "      <th>55.000</th>\n",
       "      <th>56.000</th>\n",
       "      <th>57.000</th>\n",
       "      <th>58.000</th>\n",
       "      <th>59.000</th>\n",
       "      <th>60.000</th>\n",
       "      <th>60.667</th>\n",
       "      <th>61.000</th>\n",
       "      <th>62.000</th>\n",
       "      <th>63.000</th>\n",
       "      <th>64.000</th>\n",
       "      <th>65.000</th>\n",
       "      <th>66.000</th>\n",
       "      <th>67.000</th>\n",
       "      <th>68.000</th>\n",
       "      <th>69.000</th>\n",
       "      <th>70.000</th>\n",
       "      <th>72.000</th>\n",
       "      <th>73.000</th>\n",
       "      <th>75.000</th>\n",
       "      <th>77.000</th>\n",
       "      <th>78.000</th>\n",
       "      <th>79.000</th>\n",
       "      <th>80.000</th>\n",
       "      <th>81.000</th>\n",
       "      <th>82.000</th>\n",
       "      <th>85.000</th>\n",
       "      <th>86.000</th>\n",
       "      <th>87.000</th>\n",
       "      <th>90.000</th>\n",
       "      <th>94.000</th>\n",
       "      <th>95.000</th>\n",
       "    </tr>\n",
       "    <tr>\n",
       "      <th>Kematian</th>\n",
       "      <th></th>\n",
       "      <th></th>\n",
       "      <th></th>\n",
       "      <th></th>\n",
       "      <th></th>\n",
       "      <th></th>\n",
       "      <th></th>\n",
       "      <th></th>\n",
       "      <th></th>\n",
       "      <th></th>\n",
       "      <th></th>\n",
       "      <th></th>\n",
       "      <th></th>\n",
       "      <th></th>\n",
       "      <th></th>\n",
       "      <th></th>\n",
       "      <th></th>\n",
       "      <th></th>\n",
       "      <th></th>\n",
       "      <th></th>\n",
       "      <th></th>\n",
       "      <th></th>\n",
       "      <th></th>\n",
       "      <th></th>\n",
       "      <th></th>\n",
       "      <th></th>\n",
       "      <th></th>\n",
       "      <th></th>\n",
       "      <th></th>\n",
       "      <th></th>\n",
       "      <th></th>\n",
       "      <th></th>\n",
       "      <th></th>\n",
       "      <th></th>\n",
       "      <th></th>\n",
       "      <th></th>\n",
       "      <th></th>\n",
       "      <th></th>\n",
       "      <th></th>\n",
       "      <th></th>\n",
       "      <th></th>\n",
       "      <th></th>\n",
       "      <th></th>\n",
       "      <th></th>\n",
       "      <th></th>\n",
       "      <th></th>\n",
       "      <th></th>\n",
       "    </tr>\n",
       "  </thead>\n",
       "  <tbody>\n",
       "    <tr>\n",
       "      <th>0</th>\n",
       "      <td>7</td>\n",
       "      <td>1</td>\n",
       "      <td>6</td>\n",
       "      <td>1</td>\n",
       "      <td>2</td>\n",
       "      <td>13</td>\n",
       "      <td>2</td>\n",
       "      <td>1</td>\n",
       "      <td>0</td>\n",
       "      <td>3</td>\n",
       "      <td>19</td>\n",
       "      <td>3</td>\n",
       "      <td>5</td>\n",
       "      <td>9</td>\n",
       "      <td>1</td>\n",
       "      <td>14</td>\n",
       "      <td>1</td>\n",
       "      <td>1</td>\n",
       "      <td>8</td>\n",
       "      <td>1</td>\n",
       "      <td>20</td>\n",
       "      <td>1</td>\n",
       "      <td>4</td>\n",
       "      <td>4</td>\n",
       "      <td>8</td>\n",
       "      <td>3</td>\n",
       "      <td>18</td>\n",
       "      <td>2</td>\n",
       "      <td>2</td>\n",
       "      <td>3</td>\n",
       "      <td>1</td>\n",
       "      <td>18</td>\n",
       "      <td>2</td>\n",
       "      <td>3</td>\n",
       "      <td>5</td>\n",
       "      <td>1</td>\n",
       "      <td>2</td>\n",
       "      <td>1</td>\n",
       "      <td>2</td>\n",
       "      <td>1</td>\n",
       "      <td>0</td>\n",
       "      <td>3</td>\n",
       "      <td>0</td>\n",
       "      <td>0</td>\n",
       "      <td>1</td>\n",
       "      <td>0</td>\n",
       "      <td>0</td>\n",
       "    </tr>\n",
       "    <tr>\n",
       "      <th>1</th>\n",
       "      <td>0</td>\n",
       "      <td>0</td>\n",
       "      <td>1</td>\n",
       "      <td>0</td>\n",
       "      <td>0</td>\n",
       "      <td>6</td>\n",
       "      <td>1</td>\n",
       "      <td>0</td>\n",
       "      <td>2</td>\n",
       "      <td>1</td>\n",
       "      <td>8</td>\n",
       "      <td>1</td>\n",
       "      <td>0</td>\n",
       "      <td>1</td>\n",
       "      <td>1</td>\n",
       "      <td>3</td>\n",
       "      <td>0</td>\n",
       "      <td>1</td>\n",
       "      <td>2</td>\n",
       "      <td>3</td>\n",
       "      <td>13</td>\n",
       "      <td>1</td>\n",
       "      <td>0</td>\n",
       "      <td>1</td>\n",
       "      <td>0</td>\n",
       "      <td>0</td>\n",
       "      <td>8</td>\n",
       "      <td>0</td>\n",
       "      <td>0</td>\n",
       "      <td>2</td>\n",
       "      <td>2</td>\n",
       "      <td>7</td>\n",
       "      <td>5</td>\n",
       "      <td>1</td>\n",
       "      <td>6</td>\n",
       "      <td>1</td>\n",
       "      <td>0</td>\n",
       "      <td>0</td>\n",
       "      <td>5</td>\n",
       "      <td>0</td>\n",
       "      <td>3</td>\n",
       "      <td>3</td>\n",
       "      <td>1</td>\n",
       "      <td>1</td>\n",
       "      <td>2</td>\n",
       "      <td>1</td>\n",
       "      <td>2</td>\n",
       "    </tr>\n",
       "  </tbody>\n",
       "</table>\n",
       "</div>"
      ],
      "text/plain": [
       "Usia      40.000  41.000  42.000  43.000  44.000  45.000  46.000  47.000  \\\n",
       "Kematian                                                                   \n",
       "0              7       1       6       1       2      13       2       1   \n",
       "1              0       0       1       0       0       6       1       0   \n",
       "\n",
       "Usia      48.000  49.000  50.000  51.000  52.000  53.000  54.000  55.000  \\\n",
       "Kematian                                                                   \n",
       "0              0       3      19       3       5       9       1      14   \n",
       "1              2       1       8       1       0       1       1       3   \n",
       "\n",
       "Usia      56.000  57.000  58.000  59.000  60.000  60.667  61.000  62.000  \\\n",
       "Kematian                                                                   \n",
       "0              1       1       8       1      20       1       4       4   \n",
       "1              0       1       2       3      13       1       0       1   \n",
       "\n",
       "Usia      63.000  64.000  65.000  66.000  67.000  68.000  69.000  70.000  \\\n",
       "Kematian                                                                   \n",
       "0              8       3      18       2       2       3       1      18   \n",
       "1              0       0       8       0       0       2       2       7   \n",
       "\n",
       "Usia      72.000  73.000  75.000  77.000  78.000  79.000  80.000  81.000  \\\n",
       "Kematian                                                                   \n",
       "0              2       3       5       1       2       1       2       1   \n",
       "1              5       1       6       1       0       0       5       0   \n",
       "\n",
       "Usia      82.000  85.000  86.000  87.000  90.000  94.000  95.000  \n",
       "Kematian                                                          \n",
       "0              0       3       0       0       1       0       0  \n",
       "1              3       3       1       1       2       1       2  "
      ]
     },
     "execution_count": 61,
     "metadata": {},
     "output_type": "execute_result"
    }
   ],
   "source": [
    "pd.crosstab(df.Kematian, df.Usia)"
   ]
  },
  {
   "cell_type": "markdown",
   "metadata": {},
   "source": [
    "dari hasil diketahui banyak pasien berusia 60 tahun mengalami kematian ketika dilakukan follow up\n",
    "\n",
    "d. Melakukan grouping pada atribut Usia dan Kematian untuk melihat rata-ratanya"
   ]
  },
  {
   "cell_type": "code",
   "execution_count": 62,
   "metadata": {},
   "outputs": [
    {
     "data": {
      "text/html": [
       "<div>\n",
       "<style scoped>\n",
       "    .dataframe tbody tr th:only-of-type {\n",
       "        vertical-align: middle;\n",
       "    }\n",
       "\n",
       "    .dataframe tbody tr th {\n",
       "        vertical-align: top;\n",
       "    }\n",
       "\n",
       "    .dataframe thead th {\n",
       "        text-align: right;\n",
       "    }\n",
       "</style>\n",
       "<table border=\"1\" class=\"dataframe\">\n",
       "  <thead>\n",
       "    <tr style=\"text-align: right;\">\n",
       "      <th></th>\n",
       "      <th>Usia</th>\n",
       "    </tr>\n",
       "    <tr>\n",
       "      <th>Kematian</th>\n",
       "      <th></th>\n",
       "    </tr>\n",
       "  </thead>\n",
       "  <tbody>\n",
       "    <tr>\n",
       "      <th>0</th>\n",
       "      <td>58.761906</td>\n",
       "    </tr>\n",
       "    <tr>\n",
       "      <th>1</th>\n",
       "      <td>65.215281</td>\n",
       "    </tr>\n",
       "  </tbody>\n",
       "</table>\n",
       "</div>"
      ],
      "text/plain": [
       "               Usia\n",
       "Kematian           \n",
       "0         58.761906\n",
       "1         65.215281"
      ]
     },
     "execution_count": 62,
     "metadata": {},
     "output_type": "execute_result"
    }
   ],
   "source": [
    "df[['Usia','Kematian']].groupby('Kematian').mean().sort_values(by='Usia', ascending=True)"
   ]
  },
  {
   "cell_type": "markdown",
   "metadata": {},
   "source": [
    "Diperoleh bahwa rata-rata usia pasien yang meninggal yakni 65 tahun, sedangkan rata-rata pasien yang tidak meninggal/bertahan berusia 58 tahun\n",
    "\n",
    "e. Melihat data histori record dengan melakukan query, yang di mana:\n",
    "- Pasien berusia 50\n",
    "- Pasien Perokok\n",
    "- Pasien memiliki riwayat diabetes"
   ]
  },
  {
   "cell_type": "code",
   "execution_count": 63,
   "metadata": {},
   "outputs": [
    {
     "data": {
      "text/html": [
       "<div>\n",
       "<style scoped>\n",
       "    .dataframe tbody tr th:only-of-type {\n",
       "        vertical-align: middle;\n",
       "    }\n",
       "\n",
       "    .dataframe tbody tr th {\n",
       "        vertical-align: top;\n",
       "    }\n",
       "\n",
       "    .dataframe thead th {\n",
       "        text-align: right;\n",
       "    }\n",
       "</style>\n",
       "<table border=\"1\" class=\"dataframe\">\n",
       "  <thead>\n",
       "    <tr style=\"text-align: right;\">\n",
       "      <th></th>\n",
       "      <th>Usia</th>\n",
       "      <th>Anaemia</th>\n",
       "      <th>EnzimCPK</th>\n",
       "      <th>Diabetes</th>\n",
       "      <th>PecahanEjeksi</th>\n",
       "      <th>TekananDarahTinggi</th>\n",
       "      <th>Trombosit</th>\n",
       "      <th>KreatininSerum</th>\n",
       "      <th>SodiumSerum</th>\n",
       "      <th>JenisKelamin</th>\n",
       "      <th>Merokok</th>\n",
       "      <th>Waktu</th>\n",
       "      <th>Kematian</th>\n",
       "    </tr>\n",
       "  </thead>\n",
       "  <tbody>\n",
       "    <tr>\n",
       "      <th>41</th>\n",
       "      <td>50.0</td>\n",
       "      <td>0</td>\n",
       "      <td>124</td>\n",
       "      <td>1</td>\n",
       "      <td>30</td>\n",
       "      <td>1</td>\n",
       "      <td>153000.00</td>\n",
       "      <td>1.20</td>\n",
       "      <td>136</td>\n",
       "      <td>0</td>\n",
       "      <td>1</td>\n",
       "      <td>32</td>\n",
       "      <td>1</td>\n",
       "    </tr>\n",
       "    <tr>\n",
       "      <th>45</th>\n",
       "      <td>50.0</td>\n",
       "      <td>0</td>\n",
       "      <td>582</td>\n",
       "      <td>1</td>\n",
       "      <td>38</td>\n",
       "      <td>0</td>\n",
       "      <td>310000.00</td>\n",
       "      <td>1.90</td>\n",
       "      <td>135</td>\n",
       "      <td>1</td>\n",
       "      <td>1</td>\n",
       "      <td>35</td>\n",
       "      <td>1</td>\n",
       "    </tr>\n",
       "    <tr>\n",
       "      <th>153</th>\n",
       "      <td>50.0</td>\n",
       "      <td>0</td>\n",
       "      <td>1846</td>\n",
       "      <td>1</td>\n",
       "      <td>35</td>\n",
       "      <td>0</td>\n",
       "      <td>263358.03</td>\n",
       "      <td>1.18</td>\n",
       "      <td>137</td>\n",
       "      <td>1</td>\n",
       "      <td>1</td>\n",
       "      <td>119</td>\n",
       "      <td>0</td>\n",
       "    </tr>\n",
       "  </tbody>\n",
       "</table>\n",
       "</div>"
      ],
      "text/plain": [
       "     Usia  Anaemia  EnzimCPK  Diabetes  PecahanEjeksi  TekananDarahTinggi  \\\n",
       "41   50.0        0       124         1             30                   1   \n",
       "45   50.0        0       582         1             38                   0   \n",
       "153  50.0        0      1846         1             35                   0   \n",
       "\n",
       "     Trombosit  KreatininSerum  SodiumSerum  JenisKelamin  Merokok  Waktu  \\\n",
       "41   153000.00            1.20          136             0        1     32   \n",
       "45   310000.00            1.90          135             1        1     35   \n",
       "153  263358.03            1.18          137             1        1    119   \n",
       "\n",
       "     Kematian  \n",
       "41          1  \n",
       "45          1  \n",
       "153         0  "
      ]
     },
     "execution_count": 63,
     "metadata": {},
     "output_type": "execute_result"
    }
   ],
   "source": [
    "df[\n",
    "    (df['Usia'] == 50.0) &\n",
    "    (df['Merokok'] == 1) &\n",
    "    (df['Diabetes'] == 1) \n",
    "].head()"
   ]
  },
  {
   "cell_type": "markdown",
   "metadata": {},
   "source": [
    "f. Visualisasi line plot korelasi antara Usia dengan Waktu."
   ]
  },
  {
   "cell_type": "code",
   "execution_count": 64,
   "metadata": {},
   "outputs": [
    {
     "name": "stderr",
     "output_type": "stream",
     "text": [
      "c:\\users\\acer\\appdata\\local\\programs\\python\\python37\\lib\\site-packages\\seaborn\\_decorators.py:43: FutureWarning: Pass the following variables as keyword args: x, y. From version 0.12, the only valid positional argument will be `data`, and passing other arguments without an explicit keyword will result in an error or misinterpretation.\n",
      "  FutureWarning\n"
     ]
    },
    {
     "data": {
      "image/png": "[encoded data removed]",
      "text/plain": [
       "<Figure size 432x288 with 1 Axes>"
      ]
     },
     "metadata": {
      "needs_background": "light"
     },
     "output_type": "display_data"
    },
    {
     "data": {
      "text/plain": [
       "<Figure size 432x288 with 0 Axes>"
      ]
     },
     "metadata": {},
     "output_type": "display_data"
    }
   ],
   "source": [
    "sns.lineplot('Usia', 'Waktu', data=df)\n",
    "plt.title('Visualisasi line plot korelasi antara Usia dengan Waktu')\n",
    "plt.show()\n",
    "\n",
    "# Save Plot\n",
    "plt.savefig(\"lineplot.png\",\n",
    "            bbox_inches =\"tight\",\n",
    "            pad_inches = 1,\n",
    "            transparent = True,\n",
    "            orientation ='landscape')"
   ]
  },
  {
   "cell_type": "markdown",
   "metadata": {},
   "source": [
    "Dapat disimpulkan bahwa usia tidak sebanding atau tidak ada pola khusus correlation dengan Waktu\n",
    "\n",
    "g. Melihat persebaran data pada atribut TekananDarahTinggi"
   ]
  },
  {
   "cell_type": "code",
   "execution_count": 65,
   "metadata": {},
   "outputs": [
    {
     "data": {
      "image/png": "[encoded data removed]",
      "text/plain": [
       "<Figure size 432x288 with 1 Axes>"
      ]
     },
     "metadata": {
      "needs_background": "light"
     },
     "output_type": "display_data"
    },
    {
     "data": {
      "text/plain": [
       "<Figure size 432x288 with 0 Axes>"
      ]
     },
     "metadata": {},
     "output_type": "display_data"
    }
   ],
   "source": [
    "df['TekananDarahTinggi'].value_counts().plot.bar(color='red')\n",
    "plt.title('Persebaran Pasien Penyakit Jantung dengan Tekanan Darah Tinggi')\n",
    "plt.show()\n",
    "\n",
    "# Save Plot\n",
    "plt.savefig(\"darah.png\",\n",
    "            bbox_inches =\"tight\",\n",
    "            pad_inches = 1,\n",
    "            transparent = True,\n",
    "            orientation ='landscape')"
   ]
  },
  {
   "cell_type": "markdown",
   "metadata": {},
   "source": [
    "dapat dilihat pasien Penyakit Jantung dengan Tekanan Darah Tinggi hanya sekitar lebih dari 100 orang saja dan yang tidak Penyakit Jantung dengan Tekanan Darah Tinggi lebih banyak.\n",
    "\n",
    "h. Melihat banyaknya persebaran jumlah kematian pasien berdasarkan umur dan jenis kelamin"
   ]
  },
  {
   "cell_type": "code",
   "execution_count": 66,
   "metadata": {},
   "outputs": [
    {
     "data": {
      "image/png": "[encoded data removed]",
      "text/plain": [
       "<Figure size 1440x720 with 1 Axes>"
      ]
     },
     "metadata": {
      "needs_background": "light"
     },
     "output_type": "display_data"
    }
   ],
   "source": [
    "plt.figure(figsize=(20,10))\n",
    "ax = sns.countplot(x=\"Usia\", hue=\"Kematian\", data=df)\n",
    "plt.title('Persebaran jumlah kematian pasien berdasarkan umur dan jenis kelamin')\n",
    "\n",
    "# Save Plot\n",
    "plt.savefig(\"kematian.png\",\n",
    "            bbox_inches =\"tight\",\n",
    "            pad_inches = 1,\n",
    "            transparent = True,\n",
    "            orientation ='landscape')"
   ]
  },
  {
   "cell_type": "markdown",
   "metadata": {},
   "source": [
    "dapat dilihat bahwa persebaran kematian tertinggi ada pada usia 60 tahun dan persebaran kematian yang memiliki nilai hampir setara atau sama ada pada usia 54 tahun, 57 tahun, 66 tahun, dan 77 tahun.\n",
    "\n",
    "i. Visualisasi pie chart 10 Usia pasien terbawah dengan rata- rata riwayat SodiumSerum rendah"
   ]
  },
  {
   "cell_type": "code",
   "execution_count": 67,
   "metadata": {},
   "outputs": [
    {
     "data": {
      "image/png": "[encoded data removed]",
      "text/plain": [
       "<Figure size 1584x576 with 1 Axes>"
      ]
     },
     "metadata": {},
     "output_type": "display_data"
    },
    {
     "data": {
      "text/plain": [
       "<Figure size 432x288 with 0 Axes>"
      ]
     },
     "metadata": {},
     "output_type": "display_data"
    }
   ],
   "source": [
    "df_last10 = df.tail(10)\n",
    "df_area = df_last10.groupby(['Usia']).sum()['SodiumSerum'].sort_values(ascending=False)\n",
    "df_area.plot(kind='pie', figsize=(22,8), autopct='%1.0f%%')\n",
    "\n",
    "plt.title(\"Pie Chart 10 Usia pasien terbawah dengan rata- rata riwayat SodiumSerum rendah\")\n",
    "plt.show()\n",
    "\n",
    "# Save Plot\n",
    "plt.savefig(\"pie.png\",\n",
    "            bbox_inches =\"tight\",\n",
    "            pad_inches = 1,\n",
    "            transparent = True,\n",
    "            orientation ='landscape')"
   ]
  },
  {
   "cell_type": "markdown",
   "metadata": {},
   "source": [
    "dari visualisasi didapatkan usia 63, 50, 60, 55, 52, 62 dan 90 tahun memiliki rata- rata riwayat SodiumSerum rendah yaitu 10% dan disusul usia 45 tahun dengan rata- rata riwayat SodiumSerum 30%\n",
    "\n",
    "j. Visualisasi boxplot perbandingan Tekanan Darah Tinggi berdasarkan Pecahan Ejeksi"
   ]
  },
  {
   "cell_type": "code",
   "execution_count": 68,
   "metadata": {},
   "outputs": [
    {
     "data": {
      "image/png": "[encoded data removed]",
      "text/plain": [
       "<Figure size 648x360 with 1 Axes>"
      ]
     },
     "metadata": {
      "needs_background": "light"
     },
     "output_type": "display_data"
    }
   ],
   "source": [
    "fig, ax = plt.subplots(figsize=(9, 5))\n",
    "\n",
    "sns.boxplot(x='TekananDarahTinggi', y='PecahanEjeksi', data=df, palette=\"pastel\")\n",
    "\n",
    "plt.xlabel(\"Tekanan Darah Tinggi\", fontsize= 12)\n",
    "plt.ylabel(\"Pecahan Ejeksi\", fontsize= 12)\n",
    "plt.title(\"Tekanan Darah Tinggi vs Pecahan Ejeksi\", fontsize= 15)\n",
    "\n",
    "# Save Plot\n",
    "plt.savefig(\"boxplot.png\",\n",
    "            bbox_inches =\"tight\",\n",
    "            pad_inches = 1,\n",
    "            transparent = True,\n",
    "            orientation ='landscape')"
   ]
  },
  {
   "cell_type": "markdown",
   "metadata": {},
   "source": [
    "Pada grafik Boxplot terlihat bahwa 0 atau tidak memiliki riwayat tekanan darah tinggi memiliki jangkauan yang cukup jauh dengan 1 atau memiliki riwayat tekanan darah tinggi serta outlier 0 atau tidak memiliki riwayat tekanan darah tinggi juga lebih banyak daripada 1 atau memiliki riwayat tekanan darah tinggi.\n",
    "\n",
    "k. Melakukan visualisasi korelasi antar variabel untuk melihat hubungan"
   ]
  },
  {
   "cell_type": "code",
   "execution_count": 69,
   "metadata": {},
   "outputs": [
    {
     "data": {
      "image/png": "[encoded data removed]",
      "text/plain": [
       "<Figure size 1152x648 with 2 Axes>"
      ]
     },
     "metadata": {
      "needs_background": "light"
     },
     "output_type": "display_data"
    },
    {
     "data": {
      "text/plain": [
       "<Figure size 432x288 with 0 Axes>"
      ]
     },
     "metadata": {},
     "output_type": "display_data"
    }
   ],
   "source": [
    "plt.figure(figsize=(16, 9))\n",
    "sns.heatmap(df.corr(), annot=True)\n",
    "plt.title(\"visualisasi korelasi antar variabel untuk melihat hubungan\", fontsize= 15)\n",
    "plt.show()\n",
    "\n",
    "# Save Plot\n",
    "plt.savefig(\"corr.png\",\n",
    "            bbox_inches =\"tight\",\n",
    "            pad_inches = 1,\n",
    "            transparent = True,\n",
    "            orientation ='landscape')"
   ]
  },
  {
   "cell_type": "markdown",
   "metadata": {},
   "source": [
    "Berdasarkan visualisasi heatmap di atas, dapat disimpulkan bahwa:\n",
    "- `Merokok` dan `JenisKelamin` memiliki korelasi tinggi yaitu 0.45\n",
    "- `Waktu` memiliki korelasi rendah dengan `Kematian` yaitu -0.53\n",
    "- `KreatininSerum` memiliki korelasi tinggi dengan `Kematian` dengan nilai 0.29\n",
    "- `Usia` juga memiliki korelasi tinggi dengan `Kematian` dengan nilai 0.25"
   ]
  },
  {
   "cell_type": "markdown",
   "metadata": {},
   "source": [
    "## 6. Data Preprocessing\n",
    "Bagian ini berisi proses penyiapan data untuk proses pelatihan model, seperti pembagian data menjadi train-dev-test, transformasi data (normalisasi, encoding, dll.), dan proses-proses lain yang dibutuhkan.\n",
    "\n",
    "a. Melakukan inisialisasi variabel X dan y\n",
    "\n",
    "Disini kami mendefinisikan untuk variabel X nya yaitu kolom selain `Kematian`, sedangkan untuk variabel y yaitu `Kematian`"
   ]
  },
  {
   "cell_type": "code",
   "execution_count": 70,
   "metadata": {},
   "outputs": [
    {
     "name": "stdout",
     "output_type": "stream",
     "text": [
      "(299, 12)\n",
      "(299,)\n"
     ]
    }
   ],
   "source": [
    "X = df.drop(['Kematian'], axis=1)\n",
    "y = df['Kematian']\n",
    "\n",
    "print(X.shape)\n",
    "print(y.shape)"
   ]
  },
  {
   "cell_type": "markdown",
   "metadata": {},
   "source": [
    "b. Melakukan feature selection menggunakan library F regression dengan k=12"
   ]
  },
  {
   "cell_type": "code",
   "execution_count": 71,
   "metadata": {},
   "outputs": [
    {
     "name": "stdout",
     "output_type": "stream",
     "text": [
      "Top 12 Features yang Berpengaruh\n",
      "              Features       Score\n",
      "11               Waktu  114.181264\n",
      "7       KreatininSerum   28.158492\n",
      "4        PecahanEjeksi   23.094063\n",
      "0                 Usia   20.435946\n",
      "8          SodiumSerum   11.765331\n",
      "5   TekananDarahTinggi    1.881937\n",
      "1              Anaemia    1.310096\n",
      "2             EnzimCPK    1.173259\n",
      "6            Trombosit    0.718880\n",
      "10             Merokok    0.047333\n",
      "9         JenisKelamin    0.005534\n",
      "3             Diabetes    0.001121\n"
     ]
    }
   ],
   "source": [
    "topFeatures = SelectKBest(f_regression, k=12)\n",
    "fit = topFeatures.fit(X, y)\n",
    "dfscores = pd.DataFrame(fit.scores_)\n",
    "dfcolumns = pd.DataFrame(X.columns)\n",
    " \n",
    "featureScores = pd.concat([dfcolumns, dfscores],axis=1)\n",
    "featureScores.columns = ['Features', 'Score']\n",
    "\n",
    "print(\"Top 12 Features yang Berpengaruh\")\n",
    "print(featureScores.nlargest(12, 'Score'))"
   ]
  },
  {
   "cell_type": "markdown",
   "metadata": {},
   "source": [
    "dengan menggunakan library F regression juga didapatkan bahwa 12 feature yang paling berpengaruh dalam model yaitu `Waktu`, `KreatininSerum`, `PecahanEjeksi`, `Usia`, `SodiumSerum`, `TekananDarahTinggi`, `Anaemia `, `EnzimCPK`, `Trombosit`, `Merokok`, `JenisKelamin`, dan `Diabetes`\n",
    "\n",
    "c. Memasukkan hasil dari feature seletion ke dalam variabel X_fit untuk selanjutnya dilakukan pemodelan"
   ]
  },
  {
   "cell_type": "code",
   "execution_count": 72,
   "metadata": {},
   "outputs": [],
   "source": [
    "X_fit = df[['Waktu', 'KreatininSerum', 'PecahanEjeksi', 'Usia', 'SodiumSerum', 'TekananDarahTinggi', 'Anaemia', 'EnzimCPK', \n",
    "            'Trombosit', 'Merokok', 'JenisKelamin', 'Diabetes']]"
   ]
  },
  {
   "cell_type": "markdown",
   "metadata": {},
   "source": [
    "d. Melihat 5 baris teratas dataframe X_fit"
   ]
  },
  {
   "cell_type": "code",
   "execution_count": 73,
   "metadata": {},
   "outputs": [
    {
     "data": {
      "text/html": [
       "<div>\n",
       "<style scoped>\n",
       "    .dataframe tbody tr th:only-of-type {\n",
       "        vertical-align: middle;\n",
       "    }\n",
       "\n",
       "    .dataframe tbody tr th {\n",
       "        vertical-align: top;\n",
       "    }\n",
       "\n",
       "    .dataframe thead th {\n",
       "        text-align: right;\n",
       "    }\n",
       "</style>\n",
       "<table border=\"1\" class=\"dataframe\">\n",
       "  <thead>\n",
       "    <tr style=\"text-align: right;\">\n",
       "      <th></th>\n",
       "      <th>Waktu</th>\n",
       "      <th>KreatininSerum</th>\n",
       "      <th>PecahanEjeksi</th>\n",
       "      <th>Usia</th>\n",
       "      <th>SodiumSerum</th>\n",
       "      <th>TekananDarahTinggi</th>\n",
       "      <th>Anaemia</th>\n",
       "      <th>EnzimCPK</th>\n",
       "      <th>Trombosit</th>\n",
       "      <th>Merokok</th>\n",
       "      <th>JenisKelamin</th>\n",
       "      <th>Diabetes</th>\n",
       "    </tr>\n",
       "  </thead>\n",
       "  <tbody>\n",
       "    <tr>\n",
       "      <th>0</th>\n",
       "      <td>4</td>\n",
       "      <td>1.9</td>\n",
       "      <td>20</td>\n",
       "      <td>75.0</td>\n",
       "      <td>130</td>\n",
       "      <td>1</td>\n",
       "      <td>0</td>\n",
       "      <td>582</td>\n",
       "      <td>265000.00</td>\n",
       "      <td>0</td>\n",
       "      <td>1</td>\n",
       "      <td>0</td>\n",
       "    </tr>\n",
       "    <tr>\n",
       "      <th>1</th>\n",
       "      <td>6</td>\n",
       "      <td>1.1</td>\n",
       "      <td>38</td>\n",
       "      <td>55.0</td>\n",
       "      <td>136</td>\n",
       "      <td>0</td>\n",
       "      <td>0</td>\n",
       "      <td>7861</td>\n",
       "      <td>263358.03</td>\n",
       "      <td>0</td>\n",
       "      <td>1</td>\n",
       "      <td>0</td>\n",
       "    </tr>\n",
       "    <tr>\n",
       "      <th>2</th>\n",
       "      <td>7</td>\n",
       "      <td>1.3</td>\n",
       "      <td>20</td>\n",
       "      <td>65.0</td>\n",
       "      <td>129</td>\n",
       "      <td>0</td>\n",
       "      <td>0</td>\n",
       "      <td>146</td>\n",
       "      <td>162000.00</td>\n",
       "      <td>1</td>\n",
       "      <td>1</td>\n",
       "      <td>0</td>\n",
       "    </tr>\n",
       "    <tr>\n",
       "      <th>3</th>\n",
       "      <td>7</td>\n",
       "      <td>1.9</td>\n",
       "      <td>20</td>\n",
       "      <td>50.0</td>\n",
       "      <td>137</td>\n",
       "      <td>0</td>\n",
       "      <td>1</td>\n",
       "      <td>111</td>\n",
       "      <td>210000.00</td>\n",
       "      <td>0</td>\n",
       "      <td>1</td>\n",
       "      <td>0</td>\n",
       "    </tr>\n",
       "    <tr>\n",
       "      <th>4</th>\n",
       "      <td>8</td>\n",
       "      <td>2.7</td>\n",
       "      <td>20</td>\n",
       "      <td>65.0</td>\n",
       "      <td>116</td>\n",
       "      <td>0</td>\n",
       "      <td>1</td>\n",
       "      <td>160</td>\n",
       "      <td>327000.00</td>\n",
       "      <td>0</td>\n",
       "      <td>0</td>\n",
       "      <td>1</td>\n",
       "    </tr>\n",
       "  </tbody>\n",
       "</table>\n",
       "</div>"
      ],
      "text/plain": [
       "   Waktu  KreatininSerum  PecahanEjeksi  Usia  SodiumSerum  \\\n",
       "0      4             1.9             20  75.0          130   \n",
       "1      6             1.1             38  55.0          136   \n",
       "2      7             1.3             20  65.0          129   \n",
       "3      7             1.9             20  50.0          137   \n",
       "4      8             2.7             20  65.0          116   \n",
       "\n",
       "   TekananDarahTinggi  Anaemia  EnzimCPK  Trombosit  Merokok  JenisKelamin  \\\n",
       "0                   1        0       582  265000.00        0             1   \n",
       "1                   0        0      7861  263358.03        0             1   \n",
       "2                   0        0       146  162000.00        1             1   \n",
       "3                   0        1       111  210000.00        0             1   \n",
       "4                   0        1       160  327000.00        0             0   \n",
       "\n",
       "   Diabetes  \n",
       "0         0  \n",
       "1         0  \n",
       "2         0  \n",
       "3         0  \n",
       "4         1  "
      ]
     },
     "execution_count": 73,
     "metadata": {},
     "output_type": "execute_result"
    }
   ],
   "source": [
    "X_fit.head()"
   ]
  },
  {
   "cell_type": "markdown",
   "metadata": {},
   "source": [
    "e. melihat informasi (kolom, baris, tipe data) dan dimensi pada dataframe X_fit"
   ]
  },
  {
   "cell_type": "code",
   "execution_count": 74,
   "metadata": {},
   "outputs": [
    {
     "name": "stdout",
     "output_type": "stream",
     "text": [
      "<class 'pandas.core.frame.DataFrame'>\n",
      "RangeIndex: 299 entries, 0 to 298\n",
      "Data columns (total 12 columns):\n",
      " #   Column              Non-Null Count  Dtype  \n",
      "---  ------              --------------  -----  \n",
      " 0   Waktu               299 non-null    int64  \n",
      " 1   KreatininSerum      299 non-null    float64\n",
      " 2   PecahanEjeksi       299 non-null    int64  \n",
      " 3   Usia                299 non-null    float64\n",
      " 4   SodiumSerum         299 non-null    int64  \n",
      " 5   TekananDarahTinggi  299 non-null    int64  \n",
      " 6   Anaemia             299 non-null    int64  \n",
      " 7   EnzimCPK            299 non-null    int64  \n",
      " 8   Trombosit           299 non-null    float64\n",
      " 9   Merokok             299 non-null    int64  \n",
      " 10  JenisKelamin        299 non-null    int64  \n",
      " 11  Diabetes            299 non-null    int64  \n",
      "dtypes: float64(3), int64(9)\n",
      "memory usage: 28.2 KB\n"
     ]
    },
    {
     "data": {
      "text/plain": [
       "(299, 12)"
      ]
     },
     "execution_count": 74,
     "metadata": {},
     "output_type": "execute_result"
    }
   ],
   "source": [
    "X_fit.info()\n",
    "\n",
    "X_fit.shape"
   ]
  },
  {
   "cell_type": "markdown",
   "metadata": {},
   "source": [
    "f. Membagi data menjadi Training dan Testing pada kolom atau atribut yang sudah diperoleh. Untuk proporsi Training data sebesar 80% (0.80) dan Testing data sebesar 20% (0.20)"
   ]
  },
  {
   "cell_type": "code",
   "execution_count": 75,
   "metadata": {},
   "outputs": [],
   "source": [
    "X_train, X_test, y_train, y_test = train_test_split(X_fit.to_numpy(), y, test_size=0.20, random_state=13)"
   ]
  },
  {
   "cell_type": "code",
   "execution_count": 76,
   "metadata": {},
   "outputs": [
    {
     "name": "stdout",
     "output_type": "stream",
     "text": [
      "(239, 12)\n",
      "(60, 12)\n"
     ]
    }
   ],
   "source": [
    "print(X_train.shape)\n",
    "print(X_test.shape)"
   ]
  },
  {
   "cell_type": "markdown",
   "metadata": {},
   "source": [
    "Berdasarkan pembagian proporsi training data/data latih dan testing data/data uji, didapatkan jumlah **data training dari keseluruhan data sebanyak 239 data**, serta **data testing sebanyak 60 data**."
   ]
  },
  {
   "cell_type": "markdown",
   "metadata": {},
   "source": [
    "##  7. Pendefinisian Model\n",
    "Bagian ini berisi cell untuk mendefinisikan model sampai kompilasi model. seperti penjelasan mengapa memilih arsitektur atau jenis model tertentu, alasan memilih nilai hyperparameter, dan hal lain yang berkaitan.\n",
    "\n",
    "Pada kasus ini kami menggunakan **model Random Forest Classifier** dan **model Random Forest Regressor** yang merupakan ensemble method (berdasarkan pendekatan divide-and-conquer) dari decision tree yang dihasilkan pada dataset yang dipisahkan secara acak. Alasan penggunaan metode ini yaitu tipe data prediksi yang berupa data kategorik, sehingga metode tersebut cocok digunakan.\n",
    "\n",
    "a. Model random forest classifier dengan GAUSSIAN CLASSIFIER n estimator 100"
   ]
  },
  {
   "cell_type": "code",
   "execution_count": 77,
   "metadata": {},
   "outputs": [],
   "source": [
    "clf = RandomForestClassifier(n_estimators=100)"
   ]
  },
  {
   "cell_type": "markdown",
   "metadata": {},
   "source": [
    "n_estimators is the number of trees to be used in the forest. Since Random Forest is an ensemble method comprising of creating multiple decision trees, this parameter is used to control the number of trees to be used in the process.\n",
    "\n",
    "b. Model random forest Regressor dengan GAUSSIAN CLASSIFIER n estimator 100"
   ]
  },
  {
   "cell_type": "code",
   "execution_count": 78,
   "metadata": {},
   "outputs": [],
   "source": [
    "clf1 = RandomForestRegressor(n_estimators=100)"
   ]
  },
  {
   "cell_type": "markdown",
   "metadata": {},
   "source": [
    "## 8. Pelatihan Model\n",
    "Cell pada bagian ini hanya berisi code untuk melatih model dan output yang dihasilkan.\n",
    "\n",
    "**a. Model Random Forest Classifier**"
   ]
  },
  {
   "cell_type": "code",
   "execution_count": 79,
   "metadata": {},
   "outputs": [
    {
     "data": {
      "text/plain": [
       "RandomForestClassifier()"
      ]
     },
     "execution_count": 79,
     "metadata": {},
     "output_type": "execute_result"
    }
   ],
   "source": [
    "RFC = clf.fit(X_train, y_train)\n",
    "RFC"
   ]
  },
  {
   "cell_type": "markdown",
   "metadata": {},
   "source": [
    "**b. Model Random Forest Regressor**"
   ]
  },
  {
   "cell_type": "code",
   "execution_count": 80,
   "metadata": {},
   "outputs": [
    {
     "data": {
      "text/plain": [
       "RandomForestRegressor()"
      ]
     },
     "execution_count": 80,
     "metadata": {},
     "output_type": "execute_result"
    }
   ],
   "source": [
    "RFR = clf1.fit(X_train, y_train)\n",
    "RFR"
   ]
  },
  {
   "cell_type": "markdown",
   "metadata": {},
   "source": [
    "## 9. Evaluasi Model\n",
    "Pada bagian ini, dilakukan evaluasi model yang harus menunjukkan bagaimana performa model berdasarkan metrics yang dipilih. Hal ini harus dibuktikan dengan visualisasi tren performa dan/atau tingkat kesalahan model.\n",
    "\n",
    "**a. Model Logistic Regression**\n",
    "- memeriksa performa dengan .prdict_proba() yang mengembalikan matriks probabilitas bahwa keluaran yang diprediksi sama dengan nol / satu"
   ]
  },
  {
   "cell_type": "code",
   "execution_count": 81,
   "metadata": {},
   "outputs": [
    {
     "data": {
      "text/plain": [
       "array([[0.92, 0.08],\n",
       "       [0.97, 0.03],\n",
       "       [0.94, 0.06],\n",
       "       [0.7 , 0.3 ],\n",
       "       [0.04, 0.96],\n",
       "       [0.46, 0.54],\n",
       "       [0.53, 0.47],\n",
       "       [0.27, 0.73],\n",
       "       [0.3 , 0.7 ],\n",
       "       [0.97, 0.03],\n",
       "       [0.56, 0.44],\n",
       "       [0.81, 0.19],\n",
       "       [0.36, 0.64],\n",
       "       [0.29, 0.71],\n",
       "       [0.4 , 0.6 ],\n",
       "       [0.9 , 0.1 ],\n",
       "       [0.88, 0.12],\n",
       "       [0.94, 0.06],\n",
       "       [0.94, 0.06],\n",
       "       [0.84, 0.16],\n",
       "       [0.85, 0.15],\n",
       "       [1.  , 0.  ],\n",
       "       [0.93, 0.07],\n",
       "       [0.08, 0.92],\n",
       "       [0.99, 0.01],\n",
       "       [0.94, 0.06],\n",
       "       [0.92, 0.08],\n",
       "       [0.57, 0.43],\n",
       "       [0.94, 0.06],\n",
       "       [0.87, 0.13],\n",
       "       [0.38, 0.62],\n",
       "       [0.66, 0.34],\n",
       "       [0.96, 0.04],\n",
       "       [0.91, 0.09],\n",
       "       [0.53, 0.47],\n",
       "       [0.19, 0.81],\n",
       "       [0.93, 0.07],\n",
       "       [0.75, 0.25],\n",
       "       [0.62, 0.38],\n",
       "       [0.96, 0.04],\n",
       "       [1.  , 0.  ],\n",
       "       [0.98, 0.02],\n",
       "       [0.44, 0.56],\n",
       "       [0.97, 0.03],\n",
       "       [0.95, 0.05],\n",
       "       [0.17, 0.83],\n",
       "       [1.  , 0.  ],\n",
       "       [0.43, 0.57],\n",
       "       [0.95, 0.05],\n",
       "       [0.87, 0.13],\n",
       "       [0.72, 0.28],\n",
       "       [0.96, 0.04],\n",
       "       [0.9 , 0.1 ],\n",
       "       [0.89, 0.11],\n",
       "       [0.82, 0.18],\n",
       "       [0.34, 0.66],\n",
       "       [0.92, 0.08],\n",
       "       [0.36, 0.64],\n",
       "       [0.73, 0.27],\n",
       "       [0.36, 0.64]])"
      ]
     },
     "execution_count": 81,
     "metadata": {},
     "output_type": "execute_result"
    }
   ],
   "source": [
    "RFC.predict_proba(X_test)"
   ]
  },
  {
   "cell_type": "markdown",
   "metadata": {},
   "source": [
    "- melihat predicted outputs dengan .predict()"
   ]
  },
  {
   "cell_type": "code",
   "execution_count": 82,
   "metadata": {},
   "outputs": [
    {
     "data": {
      "text/plain": [
       "array([0, 0, 0, 0, 1, 1, 0, 1, 1, 0, 0, 0, 1, 1, 1, 0, 0, 0, 0, 0, 0, 0,\n",
       "       0, 1, 0, 0, 0, 0, 0, 0, 1, 0, 0, 0, 0, 1, 0, 0, 0, 0, 0, 0, 1, 0,\n",
       "       0, 1, 0, 1, 0, 0, 0, 0, 0, 0, 0, 1, 0, 1, 0, 1], dtype=int64)"
      ]
     },
     "execution_count": 82,
     "metadata": {},
     "output_type": "execute_result"
    }
   ],
   "source": [
    "y_pred = RFC.predict(X_test)\n",
    "y_pred"
   ]
  },
  {
   "cell_type": "markdown",
   "metadata": {},
   "source": [
    "- melihat nilai akurasi dengan .score"
   ]
  },
  {
   "cell_type": "code",
   "execution_count": 83,
   "metadata": {},
   "outputs": [
    {
     "name": "stdout",
     "output_type": "stream",
     "text": [
      "Test score: 0.8666666666666667\n",
      "Train score: 1.0\n"
     ]
    }
   ],
   "source": [
    "print(\"Test score:\", RFC.score(X_test, y_test))\n",
    "print(\"Train score:\", RFC.score(X_train, y_train))"
   ]
  },
  {
   "cell_type": "markdown",
   "metadata": {},
   "source": [
    "didapatkan hasil nilai Score untuk test data / pengujian data yaitu 92% (0.916), sedangkan jika dibandingkan dengan train data /pelatihan data nilai scorenya 100% (1.0)\n",
    "\n",
    "- Melihat confussion matrix dan classification report dari model"
   ]
  },
  {
   "cell_type": "code",
   "execution_count": 84,
   "metadata": {},
   "outputs": [
    {
     "data": {
      "text/plain": [
       "array([[39,  3],\n",
       "       [ 5, 13]], dtype=int64)"
      ]
     },
     "execution_count": 84,
     "metadata": {},
     "output_type": "execute_result"
    }
   ],
   "source": [
    "confusion_matrix(y_test, y_pred)"
   ]
  },
  {
   "cell_type": "code",
   "execution_count": 85,
   "metadata": {},
   "outputs": [
    {
     "data": {
      "image/png": "[encoded data removed]",
      "text/plain": [
       "<Figure size 432x288 with 2 Axes>"
      ]
     },
     "metadata": {
      "needs_background": "light"
     },
     "output_type": "display_data"
    },
    {
     "name": "stdout",
     "output_type": "stream",
     "text": [
      "              precision    recall  f1-score   support\n",
      "\n",
      "           0       0.89      0.93      0.91        42\n",
      "           1       0.81      0.72      0.76        18\n",
      "\n",
      "    accuracy                           0.87        60\n",
      "   macro avg       0.85      0.83      0.84        60\n",
      "weighted avg       0.86      0.87      0.86        60\n",
      "\n"
     ]
    }
   ],
   "source": [
    "cm = confusion_matrix(y_test, y_pred)\n",
    "sns.heatmap(cm, annot=True, fmt=\"d\", linewidths=.5, cmap = 'nipy_spectral_r')\n",
    "plt.show()\n",
    "print(classification_report(y_test, y_pred))"
   ]
  },
  {
   "cell_type": "markdown",
   "metadata": {},
   "source": [
    "berdasarkan hasil confusion matrix diketahui banyaknya nilai TP (True Positive) adalah 40, FP (False Positive) adalah 2, FN (False Negative) adalah 3, dan TN (True Negative) adalah 15\n",
    "\n",
    "- Melihat summary dari evaluasi model Logistic Regression"
   ]
  },
  {
   "cell_type": "code",
   "execution_count": 86,
   "metadata": {},
   "outputs": [
    {
     "name": "stdout",
     "output_type": "stream",
     "text": [
      "Ringkasan Evaluasi Model Random Forest Classifier\n",
      "Akurasi : 0.8666666666666667\n",
      "Presisi : 0.8125\n",
      "Recall : 0.7222222222222222\n",
      "F1 Score : 0.7647058823529411\n"
     ]
    }
   ],
   "source": [
    "print('Ringkasan Evaluasi Model Random Forest Classifier')\n",
    "print('Akurasi :', accuracy_score(y_test, y_pred))\n",
    "print('Presisi :', precision_score(y_test,y_pred))\n",
    "print('Recall :', recall_score(y_test,y_pred))\n",
    "print('F1 Score :', f1_score(y_test,y_pred))"
   ]
  },
  {
   "cell_type": "markdown",
   "metadata": {},
   "source": [
    "Dari Evaluasi model diketahui bahwa hasil akurasi model random forest classifier yaitu 92% (0.916) yang artinya hasil sudah baik dan bisa dibilang akurat sehingga model ini bisa digunakan untuk dilakukan prediksi keselamatan pasien dari penyakit jantung.\n",
    "\n",
    "**b. Model Random Forest Regressor**"
   ]
  },
  {
   "cell_type": "markdown",
   "metadata": {},
   "source": [
    "- melihat predicted outputs dengan .predict()"
   ]
  },
  {
   "cell_type": "code",
   "execution_count": 87,
   "metadata": {},
   "outputs": [
    {
     "data": {
      "text/plain": [
       "array([0.02, 0.  , 0.07, 0.31, 1.  , 0.57, 0.51, 0.64, 0.86, 0.  , 0.54,\n",
       "       0.18, 0.78, 0.68, 0.61, 0.01, 0.12, 0.  , 0.04, 0.15, 0.06, 0.  ,\n",
       "       0.03, 0.95, 0.  , 0.01, 0.08, 0.63, 0.01, 0.06, 0.85, 0.4 , 0.  ,\n",
       "       0.08, 0.42, 0.85, 0.09, 0.51, 0.56, 0.  , 0.  , 0.  , 0.59, 0.04,\n",
       "       0.  , 0.87, 0.01, 0.69, 0.04, 0.05, 0.51, 0.  , 0.03, 0.03, 0.12,\n",
       "       0.72, 0.03, 0.74, 0.19, 0.72])"
      ]
     },
     "execution_count": 87,
     "metadata": {},
     "output_type": "execute_result"
    }
   ],
   "source": [
    "y_pred_reg = RFR.predict(X_test)\n",
    "y_pred_reg"
   ]
  },
  {
   "cell_type": "markdown",
   "metadata": {},
   "source": [
    "- melihat nilai akurasi dengan .score"
   ]
  },
  {
   "cell_type": "code",
   "execution_count": 88,
   "metadata": {},
   "outputs": [
    {
     "name": "stdout",
     "output_type": "stream",
     "text": [
      "Test score: 0.5563968253968254\n",
      "Train score: 0.9134514731645166\n"
     ]
    }
   ],
   "source": [
    "print(\"Test score:\", RFR.score(X_test, y_test))\n",
    "print(\"Train score:\", RFR.score(X_train, y_train))"
   ]
  },
  {
   "cell_type": "markdown",
   "metadata": {},
   "source": [
    "didapatkan hasil nilai Score untuk test data / pengujian data yaitu 54% (0.54), sedangkan jika dibandingkan dengan train data /pelatihan data nilai scorenya 92% (0.915)\n",
    "\n",
    "- Melihat confussion matrix dan classification report dari model"
   ]
  },
  {
   "cell_type": "code",
   "execution_count": 89,
   "metadata": {},
   "outputs": [
    {
     "data": {
      "text/plain": [
       "array([[35,  7],\n",
       "       [ 3, 15]], dtype=int64)"
      ]
     },
     "execution_count": 89,
     "metadata": {},
     "output_type": "execute_result"
    }
   ],
   "source": [
    "y_pred_reg_round = y_pred_reg.round()\n",
    "confusion_matrix(y_test.values, y_pred_reg_round)"
   ]
  },
  {
   "cell_type": "code",
   "execution_count": 90,
   "metadata": {},
   "outputs": [
    {
     "data": {
      "image/png": "[encoded data removed]",
      "text/plain": [
       "<Figure size 432x288 with 2 Axes>"
      ]
     },
     "metadata": {
      "needs_background": "light"
     },
     "output_type": "display_data"
    },
    {
     "name": "stdout",
     "output_type": "stream",
     "text": [
      "              precision    recall  f1-score   support\n",
      "\n",
      "           0       0.92      0.83      0.88        42\n",
      "           1       0.68      0.83      0.75        18\n",
      "\n",
      "    accuracy                           0.83        60\n",
      "   macro avg       0.80      0.83      0.81        60\n",
      "weighted avg       0.85      0.83      0.84        60\n",
      "\n"
     ]
    }
   ],
   "source": [
    "cm_reg = confusion_matrix(y_test, y_pred_reg_round)\n",
    "sns.heatmap(cm_reg, annot=True, fmt=\"d\", linewidths=.5, cmap = 'spring')\n",
    "plt.show()\n",
    "print(classification_report(y_test, y_pred_reg_round))"
   ]
  },
  {
   "cell_type": "markdown",
   "metadata": {},
   "source": [
    "berdasarkan hasil confusion matrix diketahui banyaknya nilai TP (True Positive) adalah 38, FP (False Positive) adalah 4, FN (False Negative) adalah 3, dan TN (True Negative) adalah 15\n",
    "\n",
    "- Melihat summary dari evaluasi model Logistic Regression"
   ]
  },
  {
   "cell_type": "code",
   "execution_count": 91,
   "metadata": {},
   "outputs": [
    {
     "name": "stdout",
     "output_type": "stream",
     "text": [
      "Ringkasan Evaluasi Model Random Forest Regressor\n",
      "Akurasi : 0.8333333333333334\n",
      "Presisi : 0.6818181818181818\n",
      "Recall : 0.8333333333333334\n",
      "F1 Score : 0.7499999999999999\n"
     ]
    }
   ],
   "source": [
    "print('Ringkasan Evaluasi Model Random Forest Regressor')\n",
    "print('Akurasi :', accuracy_score(y_test, y_pred_reg_round))\n",
    "print('Presisi :', precision_score(y_test,y_pred_reg_round))\n",
    "print('Recall :', recall_score(y_test,y_pred_reg_round))\n",
    "print('F1 Score :', f1_score(y_test,y_pred_reg_round))"
   ]
  },
  {
   "cell_type": "markdown",
   "metadata": {},
   "source": [
    "Dari Evaluasi model diketahui bahwa hasil akurasi model random forest regressor yaitu 88% (0.88) yang artinya hasil sudah baik dan bisa dibilang akurat sehingga model ini bisa digunakan untuk dilakukan prediksi keselamatan pasien dari penyakit jantung.\n",
    "\n",
    "**KESIMPULAN :**\n",
    "\n",
    "Hasil akurasi dengan menggunakan 2 model ensemble method diantaranya Random Forest Classifier dengan nilai akurasi 92% dan Random Forest Regressor dengan nilai akurasi 88% sama-sama baik dan bisa digunakan untuk dilakukan prediksi keselamatan pasien dari penyakit jantung. Sehingga pada tahap selanjutnya kami akan menggunakan kedua model tersebut dan pada hasil prediksi akan diberikan output hasil prediksi dengan 2 model tersebut"
   ]
  },
  {
   "cell_type": "markdown",
   "metadata": {},
   "source": [
    "## 10. Model Inference\n",
    "Bagian ini diisi dengan model inference, di mana model yang sudah kita latih akan dicoba pada data selain data yang sudah tersedia. Data yang dimaksud bisa berupa data buatan oleh student, ataupun data yang ada pada internet.\n",
    "\n",
    "**Petunjuk Pengisian :**\n",
    "- Usia (float) Range 40 tahun - 95 tahun (format: tahun.bulan)\n",
    "- Untuk kolom Usia, Trombosit, dan Kreatinin Serum silahkan masukkan sesuai dengan data yang ingin di prediksi dengan bertipe data float"
   ]
  },
  {
   "cell_type": "code",
   "execution_count": 92,
   "metadata": {},
   "outputs": [
    {
     "name": "stdout",
     "output_type": "stream",
     "text": [
      "--- PREDIKSI KESELAMATAN PASIEN DARI PENYAKIT JANTUNG MENGGUNAKAN RANDOM FOREST ---\n",
      "====================================================================================================\n",
      "Usia (Range 40.0 - 95.0) (format: tahun.bulan) : 60.0\n",
      "Apakah pasien mempunyai anemia? (Yes/No): : No\n",
      "Level Creatinine Phosphokinase : 522\n",
      "Apakah pasien mempunyai riwayat diabetes? (Yes/No) : No\n",
      "Banyak Darah Keluar Jantung (Pecahan Ejeksi) : 20\n",
      "Apakah pasien mempunyai darah tinggi? (Yes/No): : Yes\n",
      "Jumlah platelet (trombosit) pasien : 232000.0\n",
      "Level serum creatinine dalam darah : 1.9\n",
      "Level serum sodium dalam darah : 130\n",
      "Jenis Kelamin (Male/Female): Male\n",
      "Apakah pasien merokok? (Yes/No) : Yes\n",
      "Hari sebelum follow-up berikutnya: : 4\n",
      "[60.0, 522, 20, 232000.0, 1.9, 130, 4, 1.0, 1.0, 1.0, 1.0, 1.0]\n",
      "Berdasarkan prediksi Random Forest Classifier pasien telah meninggal sebelum follow up berikutnya.\n",
      "Berdasarkan prediksi Random Forest Regressor yaitu pasien telah meninggal sebelum follow up berikutnya.\n"
     ]
    }
   ],
   "source": [
    "print('--- PREDIKSI KESELAMATAN PASIEN DARI PENYAKIT JANTUNG MENGGUNAKAN RANDOM FOREST ---')\n",
    "print('='*100)\n",
    "\n",
    "usia = float(input(\"Usia (Range 40.0 - 95.0) (format: tahun.bulan) : \"))\n",
    "anaemia = input(\"Apakah pasien mempunyai anemia? (Yes/No): : \")\n",
    "enzim = int(input(\"Level Creatinine Phosphokinase : \"))\n",
    "diabetes = input(\"Apakah pasien mempunyai riwayat diabetes? (Yes/No) : \")\n",
    "ejeksi = int(input(\"Banyak Darah Keluar Jantung (Pecahan Ejeksi) : \"))\n",
    "DarahTinggi = input(\"Apakah pasien mempunyai darah tinggi? (Yes/No): : \")\n",
    "trombosit = float(input(\"Jumlah platelet (trombosit) pasien : \"))\n",
    "kreatinin = float(input(\"Level serum creatinine dalam darah : \"))\n",
    "sodium = int(input(\"Level serum sodium dalam darah : \"))\n",
    "JenisKelamin= input(\"Jenis Kelamin (Male/Female): \")\n",
    "rokok = input(\"Apakah pasien merokok? (Yes/No) : \")\n",
    "waktu = int(input(\"Hari sebelum follow-up berikutnya: : \"))\n",
    "\n",
    "val = [usia, enzim , ejeksi, trombosit, kreatinin, sodium, waktu]\n",
    "\n",
    "anae = {'No':0, 'Yes': 1}\n",
    "\n",
    "for i in range(0,2):\n",
    "    if anae[anaemia]==i:\n",
    "        val.append(1.0)\n",
    "    else:\n",
    "        next\n",
    "        \n",
    "diabet = {'No':0, 'Yes': 1}\n",
    "\n",
    "for i in range(0,2):\n",
    "    if diabet[diabetes]==i:\n",
    "        val.append(1.0)\n",
    "    else:\n",
    "        next\n",
    "        \n",
    "darah = {'No':0, 'Yes': 1}\n",
    "\n",
    "for i in range(0,2):\n",
    "    if darah[DarahTinggi]==i:\n",
    "        val.append(1.0)\n",
    "    else:\n",
    "        next\n",
    "        \n",
    "kelamin = {'Female':0, 'Male': 1}\n",
    "\n",
    "for i in range(0,2):\n",
    "    if kelamin[JenisKelamin]==i:\n",
    "        val.append(1.0)\n",
    "    else:\n",
    "        next\n",
    "        \n",
    "smoke = {'No':0, 'Yes': 1}\n",
    "\n",
    "for i in range(0,2):\n",
    "    if smoke[rokok]==i:\n",
    "        val.append(1.0)\n",
    "    else:\n",
    "        next\n",
    "        \n",
    "print(val)\n",
    "\n",
    "predict_rfc = RFC.predict([val])\n",
    "predict_reg = RFR.predict([val])\n",
    "\n",
    "if (predict_rfc == 0): \n",
    "    print(\"Berdasarkan prediksi Random Forest Classifier yaitu pasien belum meninggal sebelum follow up berikutnya\")\n",
    "else: \n",
    "    print(\"Berdasarkan prediksi Random Forest Classifier pasien telah meninggal sebelum follow up berikutnya.\")\n",
    "    \n",
    "if (predict_reg == 0): \n",
    "    print(\"Berdasarkan prediksi Random Forest Regressor yaitu pasien belum meninggal sebelum follow up berikutnya\")\n",
    "else: \n",
    "    print(\"Berdasarkan prediksi Random Forest Regressor yaitu pasien telah meninggal sebelum follow up berikutnya.\")"
   ]
  },
  {
   "cell_type": "markdown",
   "metadata": {},
   "source": [
    "Pada percobaan prediksi diatas kami mencoba memasukkan inputan Usia 60 tahun, Tidak memiliki riwayat Anaemia, Enzim CPK 522, tidak memiliki riwayat Diabetes, Pecahan Ejeksi 20, Memiliki riwayat Tekanan Darah Tinggi, Trombosit 232000.0 Kreatinin Serum 1.9, Sodium Serum 130, Pasien Laki - laki, Pasien perokok, dan Waktu dalam hari untuk follow-up yaitu 4\n",
    "\n",
    "Dengan inputan tersebut didapatkan hasil prediksi menggunakan metode Random Forest Classifier dan Random Forest Regressor yaitu **pasien telah meninggal sebelum follow up berikutnya**\n",
    "\n",
    "*Kode program juga bisa di run lagi dan diisi dengan data yang diinginkan.*\n",
    "\n",
    "### Save and Finalize Model\n",
    "disini kami menggunakan operasi Pickle untuk menyimpan format serialized ke sebuah file dan menggunakannya untuk membuat prediksi baru"
   ]
  },
  {
   "cell_type": "code",
   "execution_count": 93,
   "metadata": {},
   "outputs": [],
   "source": [
    "pickle.dump(RFC, open('model_RFC_FP3.pkl', 'wb'))\n",
    "pickle.dump(RFR, open('model_RRF_FP3.pkl', 'wb'))"
   ]
  },
  {
   "cell_type": "markdown",
   "metadata": {},
   "source": [
    "## 11. Pengambilan Kesimpulan\n",
    "\n",
    "Dari analisis yang telah kami lakukan, diperoleh kesimpulan sebagai berikut:\n",
    "- Pada Dataset terdapat 13 atribut yang diperkirakan sebagai faktor yang memprediksi keselamatan pasien dari penyakit jantung, Namun setelah dilakukan analisis kami menyimpulkan bahwa semua atribut  menjadi faktor kuat yang memprediksi keselamatan pasien dari penyakit jantung dengan atribut `Kematian` sebagai target dan atribut `Waktu`, `KreatininSerum`, `PecahanEjeksi`, `Usia`, `SodiumSerum`, `TekananDarahTinggi`, `Anaemia `, `EnzimCPK`, `Trombosit`, `Merokok`, `JenisKelamin`, dan `Diabetes` sebagai faktor yang memprediksi keselamatan pasien dari penyakit jantung\n",
    "- Pada datset ini tidak terdapat adanya misssing value pada setiap atributnya\n",
    "- Pada analisis ini kami juga membuat beberapa visualisasi menggunakan lineplot, boxplot, histogram, pie chart, dan matriks korelasi (heatmap) dan juga kamimelakukan beberapa contoh groupby dan query terhadap data yang ada\n",
    "- Pada analisis ini variabel dependen atau target yang digunakan yaitu `Kematian` dan variabel independen yang digunakan yaitu `Waktu`, `KreatininSerum`, `PecahanEjeksi`, `Usia`, `SodiumSerum`, `TekananDarahTinggi`, `Anaemia `, `EnzimCPK`, `Trombosit`, `Merokok`, `JenisKelamin`, dan `Diabetes`\n",
    "- Pada proses feature selection kami menggunakan library F regression yang memberikan score pada setiap atribut\n",
    "- Pada analisis ini kami membagi data menjadi Training dan Testing dengan proporsi Training data sebesar 80% (0.80) dan Testing data sebesar 20% (0.20)\n",
    "- Pada project ini kami menggunakan model ensemble method yaitu Random Forest Classifier dan Random Forest Regressor\n",
    "- Untuk model Random Forest Classifier didapatkan nilai Akurasi sebesar 92% (0.916), nilai Presisi sebesar 88% (0.88), nilai Recall sebesar 83% (0.83), dan nilai F1 Score sebesar 86% (0.857)\n",
    "- Untuk model Random Forest Regressor didapatkan nilai Akurasi sebesar 88% (0.88), nilai Presisi sebesar 79% (0.789), nilai Recall sebesar 83% (0.83), dan nilai F1 Score sebesar 81% (0.81)\n",
    "- Hasil akurasi dengan menggunakan 2 model ensemble method diantaranya Random Forest Classifier dengan nilai akurasi 92% dan Random Forest Regressor dengan nilai akurasi 88% sama-sama baik dan bisa digunakan untuk dilakukan prediksi keselamatan pasien dari penyakit jantung.\n",
    "- Pada tahap selanjutnya kami akan menggunakan kedua model tersebut dan pada hasil prediksi akan diberikan output hasil prediksi dengan 2 model tersebut"
   ]
  }
 ],
 "metadata": {
  "kernelspec": {
   "display_name": "Python 3",
   "language": "python",
   "name": "python3"
  },
  "language_info": {
   "codemirror_mode": {
    "name": "ipython",
    "version": 3
   },
   "file_extension": ".py",
   "mimetype": "text/x-python",
   "name": "python",
   "nbconvert_exporter": "python",
   "pygments_lexer": "ipython3",
   "version": "3.7.6"
  }
 },
 "nbformat": 4,
 "nbformat_minor": 4
}
